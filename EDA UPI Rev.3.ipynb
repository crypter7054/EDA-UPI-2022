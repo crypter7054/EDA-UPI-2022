{
 "cells": [
  {
   "cell_type": "markdown",
   "id": "658889b0",
   "metadata": {},
   "source": [
    "## Exploratory Data Analysis UPI Rev.3\n",
    "#### Dataset : https://github.com/crypter7054/EDA-UPI-2022 \n",
    "#### Keterangan Atribut : \n",
    "- **name** = nama dosen \n",
    "- **sinta_id**  = id dosen pada website SINTA \n",
    "- **dept** = program studi \n",
    "- **sinta_score** = skor keseluruhan SINTA \n",
    "- **sinta_3yr_score** = skor SINTA dalam 3 tahun terakhir \n",
    "- **affil_score** = skor keseluruhan afiliasi \n",
    "- **affil_3yr_score** = skor afiliasi dalam 3 tahun terakhir \n",
    "- **scopus_h_index** = indeks untuk mengukur produktivitas berdasarkan jumlah publikasi dan sitasi dosen pada Scopus \n",
    "- **gs_h_index** = indeks untuk mengukur produktivitas berdasarkan jumlah publikasi dan sitasi dosen pada Google Scholar \n",
    "- **wos_h_index** = indeks untuk mengukur produktivitas berdasarkan jumlah publikasi dan sitasi dosen pada Web of Science \n",
    "- **scopus_i10_index** = skor dosen dalam publikasi artikel yang disitasi minimal oleh 10 artikel lain pada Scopus \n",
    "- **gs_i10_index** = skor dosen dalam publikasi artikel yang disitasi minimal oleh 10 artikel lain pada Google Scholar \n",
    "- **wos_i10_index** = skor dosen dalam publikasi artikel yang disitasi minimal oleh 10 artikel lain pada Web of Science \n",
    "- **scopus_g_index** = indeks untuk mengukur produktivitas berdasarkan distribusi sitasi dari publikasi dosen pada Scopus \n",
    "- **gs_g_index** = indeks untuk mengukur produktivitas berdasarkan distribusi sitasi dari publikasi dosen pada Google Scholar \n",
    "- **wos_g_index** = indeks untuk mengukur produktivitas berdasarkan distribusi sitasi dari publikasi dosen pada Web of Science\n",
    "- **scopus_article** = jumlah publikasi artikel dosen pada Scopus \n",
    "- **scopus_citation** = jumlah sitasi pada publikasi dosen pada Scopus \n",
    "- **scopus_cited_document** = jumlah publikasi lain yang disitasi oleh dosen pada Scopus \n",
    "- **gs_article** = jumlah publikasi artikel dosen pada Google Scholar \n",
    "- **gs_citation** = jumlah sitasi pada publikasi dosen pada Google Scholar \n",
    "- **gs_cited_document** = jumlah publikasi lain yang disitasi oleh dosen pada Google Scholar \n",
    "- **wos_article** = jumlah publikasi artikel dosen pada Web of Science \n",
    "- **wos_citation** = jumlah sitasi pada publikasi dosen pada Web of Science \n",
    "- **wos_cited_document** = jumlah publikasi lain yang disitasi oleh dosen pada Web of Science"
   ]
  },
  {
   "cell_type": "markdown",
   "id": "340e0322",
   "metadata": {},
   "source": [
    "### Import Library"
   ]
  },
  {
   "cell_type": "code",
   "execution_count": 1,
   "id": "6b626431",
   "metadata": {},
   "outputs": [],
   "source": [
    "%matplotlib inline\n",
    "import numpy as np                  \n",
    "import pandas as pd                 \n",
    "import matplotlib.pyplot as plt     \n",
    "import seaborn as sns\n",
    "from datetime import datetime, date\n",
    "\n",
    "sns.set_theme(style=\"darkgrid\", palette=\"deep\")"
   ]
  },
  {
   "cell_type": "markdown",
   "id": "bb594304",
   "metadata": {},
   "source": [
    "### Read Data"
   ]
  },
  {
   "cell_type": "code",
   "execution_count": 2,
   "id": "90a098f3",
   "metadata": {
    "scrolled": true
   },
   "outputs": [
    {
     "data": {
      "text/html": [
       "<div>\n",
       "<style scoped>\n",
       "    .dataframe tbody tr th:only-of-type {\n",
       "        vertical-align: middle;\n",
       "    }\n",
       "\n",
       "    .dataframe tbody tr th {\n",
       "        vertical-align: top;\n",
       "    }\n",
       "\n",
       "    .dataframe thead th {\n",
       "        text-align: right;\n",
       "    }\n",
       "</style>\n",
       "<table border=\"1\" class=\"dataframe\">\n",
       "  <thead>\n",
       "    <tr style=\"text-align: right;\">\n",
       "      <th></th>\n",
       "      <th>NIP</th>\n",
       "      <th>nama</th>\n",
       "      <th>Stat.Peg</th>\n",
       "      <th>Gol</th>\n",
       "      <th>Jabatan Fungsional</th>\n",
       "      <th>Pendidikan Terakhir</th>\n",
       "      <th>Fakultas</th>\n",
       "      <th>Kode Prodi</th>\n",
       "      <th>Nama Prodi</th>\n",
       "      <th>sinta_id</th>\n",
       "      <th>...</th>\n",
       "      <th>wos_g_index</th>\n",
       "      <th>scopus_article</th>\n",
       "      <th>scopus_citation</th>\n",
       "      <th>scopus_cited_document</th>\n",
       "      <th>gs_article</th>\n",
       "      <th>gs_citation</th>\n",
       "      <th>gs_cited_document</th>\n",
       "      <th>wos_article</th>\n",
       "      <th>wos_citation</th>\n",
       "      <th>wos_cited_document</th>\n",
       "    </tr>\n",
       "  </thead>\n",
       "  <tbody>\n",
       "    <tr>\n",
       "      <th>0</th>\n",
       "      <td>196202081986011002</td>\n",
       "      <td>Prof. Dr. H. M. Solehuddin, M.Pd., M.A.</td>\n",
       "      <td>PNS</td>\n",
       "      <td>IV/c</td>\n",
       "      <td>Guru Besar</td>\n",
       "      <td>S3</td>\n",
       "      <td>FIP</td>\n",
       "      <td>86001.0</td>\n",
       "      <td>Bimbingan Dan Konseling (S3)</td>\n",
       "      <td>5995348.0</td>\n",
       "      <td>...</td>\n",
       "      <td>2.0</td>\n",
       "      <td>16.0</td>\n",
       "      <td>24.0</td>\n",
       "      <td>10.0</td>\n",
       "      <td>42.0</td>\n",
       "      <td>379.0</td>\n",
       "      <td>22.0</td>\n",
       "      <td>0.0</td>\n",
       "      <td>0.0</td>\n",
       "      <td>0.0</td>\n",
       "    </tr>\n",
       "    <tr>\n",
       "      <th>1</th>\n",
       "      <td>195306031980021003</td>\n",
       "      <td>Prof. Dr. H. Mohammad Ali, M.Pd., M.A.</td>\n",
       "      <td>PNS</td>\n",
       "      <td>IV/e</td>\n",
       "      <td>Guru Besar</td>\n",
       "      <td>S3</td>\n",
       "      <td>FIP</td>\n",
       "      <td>86021.0</td>\n",
       "      <td>Pengembangan Kurikulum (S3)</td>\n",
       "      <td>5980905.0</td>\n",
       "      <td>...</td>\n",
       "      <td>NaN</td>\n",
       "      <td>20.0</td>\n",
       "      <td>45.0</td>\n",
       "      <td>13.0</td>\n",
       "      <td>135.0</td>\n",
       "      <td>17415.0</td>\n",
       "      <td>84.0</td>\n",
       "      <td>0.0</td>\n",
       "      <td>0.0</td>\n",
       "      <td>0.0</td>\n",
       "    </tr>\n",
       "    <tr>\n",
       "      <th>2</th>\n",
       "      <td>195404021980112001</td>\n",
       "      <td>Prof. Dr. Hj. Ihat Hatimah, M.Pd.</td>\n",
       "      <td>PNS</td>\n",
       "      <td>IV/e</td>\n",
       "      <td>Guru Besar</td>\n",
       "      <td>S3</td>\n",
       "      <td>FIP</td>\n",
       "      <td>86005.0</td>\n",
       "      <td>Pendidikan Masyarakat (S3)</td>\n",
       "      <td>5979054.0</td>\n",
       "      <td>...</td>\n",
       "      <td>1.0</td>\n",
       "      <td>9.0</td>\n",
       "      <td>0.0</td>\n",
       "      <td>0.0</td>\n",
       "      <td>62.0</td>\n",
       "      <td>452.0</td>\n",
       "      <td>34.0</td>\n",
       "      <td>5.0</td>\n",
       "      <td>0.0</td>\n",
       "      <td>0.0</td>\n",
       "    </tr>\n",
       "    <tr>\n",
       "      <th>3</th>\n",
       "      <td>195501011981011001</td>\n",
       "      <td>Prof. Dr. H. Achmad Hufad, M.Ed.</td>\n",
       "      <td>PNS</td>\n",
       "      <td>IV/e</td>\n",
       "      <td>Guru Besar</td>\n",
       "      <td>S3</td>\n",
       "      <td>FIP</td>\n",
       "      <td>86002.0</td>\n",
       "      <td>Pendidikan Khusus (S3)</td>\n",
       "      <td>5977826.0</td>\n",
       "      <td>...</td>\n",
       "      <td>7.0</td>\n",
       "      <td>44.0</td>\n",
       "      <td>110.0</td>\n",
       "      <td>22.0</td>\n",
       "      <td>144.0</td>\n",
       "      <td>436.0</td>\n",
       "      <td>64.0</td>\n",
       "      <td>12.0</td>\n",
       "      <td>39.0</td>\n",
       "      <td>5.0</td>\n",
       "    </tr>\n",
       "    <tr>\n",
       "      <th>4</th>\n",
       "      <td>196111091987031001</td>\n",
       "      <td>Prof. Dr. H. Mustofa Kamil, M.Pd.</td>\n",
       "      <td>PNS</td>\n",
       "      <td>IV/e</td>\n",
       "      <td>Guru Besar</td>\n",
       "      <td>S3</td>\n",
       "      <td>FIP</td>\n",
       "      <td>86105.0</td>\n",
       "      <td>Pendidikan Masyarakat (S2)</td>\n",
       "      <td>5994180.0</td>\n",
       "      <td>...</td>\n",
       "      <td>1.0</td>\n",
       "      <td>9.0</td>\n",
       "      <td>8.0</td>\n",
       "      <td>3.0</td>\n",
       "      <td>71.0</td>\n",
       "      <td>1572.0</td>\n",
       "      <td>45.0</td>\n",
       "      <td>5.0</td>\n",
       "      <td>1.0</td>\n",
       "      <td>1.0</td>\n",
       "    </tr>\n",
       "    <tr>\n",
       "      <th>...</th>\n",
       "      <td>...</td>\n",
       "      <td>...</td>\n",
       "      <td>...</td>\n",
       "      <td>...</td>\n",
       "      <td>...</td>\n",
       "      <td>...</td>\n",
       "      <td>...</td>\n",
       "      <td>...</td>\n",
       "      <td>...</td>\n",
       "      <td>...</td>\n",
       "      <td>...</td>\n",
       "      <td>...</td>\n",
       "      <td>...</td>\n",
       "      <td>...</td>\n",
       "      <td>...</td>\n",
       "      <td>...</td>\n",
       "      <td>...</td>\n",
       "      <td>...</td>\n",
       "      <td>...</td>\n",
       "      <td>...</td>\n",
       "      <td>...</td>\n",
       "    </tr>\n",
       "    <tr>\n",
       "      <th>1489</th>\n",
       "      <td>920200819940117102</td>\n",
       "      <td>Ishak Ariawan, S.Pd., M.Kom.</td>\n",
       "      <td>PT</td>\n",
       "      <td>III/b</td>\n",
       "      <td>Tenaga Pengajar</td>\n",
       "      <td>S2</td>\n",
       "      <td>Kampus UPI di Serang</td>\n",
       "      <td>54241.0</td>\n",
       "      <td>Sistem Informasi Kelautan (S1)</td>\n",
       "      <td>6745750.0</td>\n",
       "      <td>...</td>\n",
       "      <td>0.0</td>\n",
       "      <td>2.0</td>\n",
       "      <td>3.0</td>\n",
       "      <td>1.0</td>\n",
       "      <td>9.0</td>\n",
       "      <td>4.0</td>\n",
       "      <td>1.0</td>\n",
       "      <td>0.0</td>\n",
       "      <td>0.0</td>\n",
       "      <td>0.0</td>\n",
       "    </tr>\n",
       "    <tr>\n",
       "      <th>1490</th>\n",
       "      <td>920200819900404101</td>\n",
       "      <td>La Ode Alam Minsaris, S.Pi., M.Si.</td>\n",
       "      <td>PT</td>\n",
       "      <td>III/b</td>\n",
       "      <td>Tenaga Pengajar</td>\n",
       "      <td>S2</td>\n",
       "      <td>Kampus UPI di Serang</td>\n",
       "      <td>54241.0</td>\n",
       "      <td>Sistem Informasi Kelautan (S1)</td>\n",
       "      <td>6760517.0</td>\n",
       "      <td>...</td>\n",
       "      <td>0.0</td>\n",
       "      <td>0.0</td>\n",
       "      <td>0.0</td>\n",
       "      <td>0.0</td>\n",
       "      <td>4.0</td>\n",
       "      <td>6.0</td>\n",
       "      <td>2.0</td>\n",
       "      <td>0.0</td>\n",
       "      <td>0.0</td>\n",
       "      <td>0.0</td>\n",
       "    </tr>\n",
       "    <tr>\n",
       "      <th>1491</th>\n",
       "      <td>920200819890313102</td>\n",
       "      <td>Himawan Prasetiyo, S.Pi., M.Si.</td>\n",
       "      <td>PT</td>\n",
       "      <td>III/b</td>\n",
       "      <td>Tenaga Pengajar</td>\n",
       "      <td>S2</td>\n",
       "      <td>Kampus UPI di Serang</td>\n",
       "      <td>54249.0</td>\n",
       "      <td>Pendidikan Kelautan dan Perikanan Kampus Seran...</td>\n",
       "      <td>6745744.0</td>\n",
       "      <td>...</td>\n",
       "      <td>1.0</td>\n",
       "      <td>1.0</td>\n",
       "      <td>5.0</td>\n",
       "      <td>1.0</td>\n",
       "      <td>7.0</td>\n",
       "      <td>8.0</td>\n",
       "      <td>3.0</td>\n",
       "      <td>0.0</td>\n",
       "      <td>0.0</td>\n",
       "      <td>0.0</td>\n",
       "    </tr>\n",
       "    <tr>\n",
       "      <th>1492</th>\n",
       "      <td>920200819900322101</td>\n",
       "      <td>Mad Rudi, S.Pd., M.Si.</td>\n",
       "      <td>PT</td>\n",
       "      <td>III/b</td>\n",
       "      <td>Tenaga Pengajar</td>\n",
       "      <td>S2</td>\n",
       "      <td>Kampus UPI di Serang</td>\n",
       "      <td>54249.0</td>\n",
       "      <td>Pendidikan Kelautan dan Perikanan Kampus Seran...</td>\n",
       "      <td>6746212.0</td>\n",
       "      <td>...</td>\n",
       "      <td>NaN</td>\n",
       "      <td>0.0</td>\n",
       "      <td>0.0</td>\n",
       "      <td>0.0</td>\n",
       "      <td>5.0</td>\n",
       "      <td>7.0</td>\n",
       "      <td>1.0</td>\n",
       "      <td>0.0</td>\n",
       "      <td>0.0</td>\n",
       "      <td>0.0</td>\n",
       "    </tr>\n",
       "    <tr>\n",
       "      <th>1493</th>\n",
       "      <td>920200819920922101</td>\n",
       "      <td>Ahmad Satibi, S.Pd., M.Pd.</td>\n",
       "      <td>PT</td>\n",
       "      <td>III/b</td>\n",
       "      <td>Tenaga Pengajar</td>\n",
       "      <td>S2</td>\n",
       "      <td>Kampus UPI di Serang</td>\n",
       "      <td>54249.0</td>\n",
       "      <td>Pendidikan Kelautan dan Perikanan Kampus Seran...</td>\n",
       "      <td>6746211.0</td>\n",
       "      <td>...</td>\n",
       "      <td>1.0</td>\n",
       "      <td>0.0</td>\n",
       "      <td>0.0</td>\n",
       "      <td>0.0</td>\n",
       "      <td>4.0</td>\n",
       "      <td>0.0</td>\n",
       "      <td>0.0</td>\n",
       "      <td>0.0</td>\n",
       "      <td>0.0</td>\n",
       "      <td>0.0</td>\n",
       "    </tr>\n",
       "  </tbody>\n",
       "</table>\n",
       "<p>1494 rows × 32 columns</p>\n",
       "</div>"
      ],
      "text/plain": [
       "                     NIP                                     nama Stat.Peg  \\\n",
       "0     196202081986011002  Prof. Dr. H. M. Solehuddin, M.Pd., M.A.      PNS   \n",
       "1     195306031980021003   Prof. Dr. H. Mohammad Ali, M.Pd., M.A.      PNS   \n",
       "2     195404021980112001        Prof. Dr. Hj. Ihat Hatimah, M.Pd.      PNS   \n",
       "3     195501011981011001         Prof. Dr. H. Achmad Hufad, M.Ed.      PNS   \n",
       "4     196111091987031001        Prof. Dr. H. Mustofa Kamil, M.Pd.      PNS   \n",
       "...                  ...                                      ...      ...   \n",
       "1489  920200819940117102             Ishak Ariawan, S.Pd., M.Kom.       PT   \n",
       "1490  920200819900404101       La Ode Alam Minsaris, S.Pi., M.Si.       PT   \n",
       "1491  920200819890313102          Himawan Prasetiyo, S.Pi., M.Si.       PT   \n",
       "1492  920200819900322101                   Mad Rudi, S.Pd., M.Si.       PT   \n",
       "1493  920200819920922101               Ahmad Satibi, S.Pd., M.Pd.       PT   \n",
       "\n",
       "        Gol Jabatan Fungsional Pendidikan Terakhir              Fakultas  \\\n",
       "0      IV/c         Guru Besar                  S3                   FIP   \n",
       "1      IV/e         Guru Besar                  S3                   FIP   \n",
       "2      IV/e         Guru Besar                  S3                   FIP   \n",
       "3      IV/e         Guru Besar                  S3                   FIP   \n",
       "4      IV/e         Guru Besar                  S3                   FIP   \n",
       "...     ...                ...                 ...                   ...   \n",
       "1489  III/b    Tenaga Pengajar                  S2  Kampus UPI di Serang   \n",
       "1490  III/b    Tenaga Pengajar                  S2  Kampus UPI di Serang   \n",
       "1491  III/b    Tenaga Pengajar                  S2  Kampus UPI di Serang   \n",
       "1492  III/b    Tenaga Pengajar                  S2  Kampus UPI di Serang   \n",
       "1493  III/b    Tenaga Pengajar                  S2  Kampus UPI di Serang   \n",
       "\n",
       "      Kode Prodi                                         Nama Prodi  \\\n",
       "0        86001.0                       Bimbingan Dan Konseling (S3)   \n",
       "1        86021.0                        Pengembangan Kurikulum (S3)   \n",
       "2        86005.0                         Pendidikan Masyarakat (S3)   \n",
       "3        86002.0                             Pendidikan Khusus (S3)   \n",
       "4        86105.0                         Pendidikan Masyarakat (S2)   \n",
       "...          ...                                                ...   \n",
       "1489     54241.0                     Sistem Informasi Kelautan (S1)   \n",
       "1490     54241.0                     Sistem Informasi Kelautan (S1)   \n",
       "1491     54249.0  Pendidikan Kelautan dan Perikanan Kampus Seran...   \n",
       "1492     54249.0  Pendidikan Kelautan dan Perikanan Kampus Seran...   \n",
       "1493     54249.0  Pendidikan Kelautan dan Perikanan Kampus Seran...   \n",
       "\n",
       "       sinta_id  ... wos_g_index  scopus_article  scopus_citation  \\\n",
       "0     5995348.0  ...         2.0            16.0             24.0   \n",
       "1     5980905.0  ...         NaN            20.0             45.0   \n",
       "2     5979054.0  ...         1.0             9.0              0.0   \n",
       "3     5977826.0  ...         7.0            44.0            110.0   \n",
       "4     5994180.0  ...         1.0             9.0              8.0   \n",
       "...         ...  ...         ...             ...              ...   \n",
       "1489  6745750.0  ...         0.0             2.0              3.0   \n",
       "1490  6760517.0  ...         0.0             0.0              0.0   \n",
       "1491  6745744.0  ...         1.0             1.0              5.0   \n",
       "1492  6746212.0  ...         NaN             0.0              0.0   \n",
       "1493  6746211.0  ...         1.0             0.0              0.0   \n",
       "\n",
       "      scopus_cited_document  gs_article  gs_citation  gs_cited_document  \\\n",
       "0                      10.0        42.0        379.0               22.0   \n",
       "1                      13.0       135.0      17415.0               84.0   \n",
       "2                       0.0        62.0        452.0               34.0   \n",
       "3                      22.0       144.0        436.0               64.0   \n",
       "4                       3.0        71.0       1572.0               45.0   \n",
       "...                     ...         ...          ...                ...   \n",
       "1489                    1.0         9.0          4.0                1.0   \n",
       "1490                    0.0         4.0          6.0                2.0   \n",
       "1491                    1.0         7.0          8.0                3.0   \n",
       "1492                    0.0         5.0          7.0                1.0   \n",
       "1493                    0.0         4.0          0.0                0.0   \n",
       "\n",
       "      wos_article  wos_citation  wos_cited_document  \n",
       "0             0.0           0.0                 0.0  \n",
       "1             0.0           0.0                 0.0  \n",
       "2             5.0           0.0                 0.0  \n",
       "3            12.0          39.0                 5.0  \n",
       "4             5.0           1.0                 1.0  \n",
       "...           ...           ...                 ...  \n",
       "1489          0.0           0.0                 0.0  \n",
       "1490          0.0           0.0                 0.0  \n",
       "1491          0.0           0.0                 0.0  \n",
       "1492          0.0           0.0                 0.0  \n",
       "1493          0.0           0.0                 0.0  \n",
       "\n",
       "[1494 rows x 32 columns]"
      ]
     },
     "execution_count": 2,
     "metadata": {},
     "output_type": "execute_result"
    }
   ],
   "source": [
    "df = pd.read_csv(\"C:\\\\Users\\\\LENOVO\\\\Scraper-SINTA-UPI-2022\\\\EDA-UPI-2022\\\\data\\\\dosen_praproses.csv\", encoding='utf-8')\n",
    "df.head(1550)"
   ]
  },
  {
   "cell_type": "markdown",
   "id": "bbeb1236",
   "metadata": {},
   "source": [
    "#### Menampilkan jumlah dan tipe data"
   ]
  },
  {
   "cell_type": "code",
   "execution_count": 3,
   "id": "6ec06971",
   "metadata": {
    "scrolled": true
   },
   "outputs": [
    {
     "name": "stdout",
     "output_type": "stream",
     "text": [
      "<class 'pandas.core.frame.DataFrame'>\n",
      "RangeIndex: 1494 entries, 0 to 1493\n",
      "Data columns (total 32 columns):\n",
      " #   Column                 Non-Null Count  Dtype  \n",
      "---  ------                 --------------  -----  \n",
      " 0   NIP                    1494 non-null   int64  \n",
      " 1   nama                   1494 non-null   object \n",
      " 2   Stat.Peg               1494 non-null   object \n",
      " 3   Gol                    1477 non-null   object \n",
      " 4   Jabatan Fungsional     1494 non-null   object \n",
      " 5   Pendidikan Terakhir    1494 non-null   object \n",
      " 6   Fakultas               1494 non-null   object \n",
      " 7   Kode Prodi             1490 non-null   float64\n",
      " 8   Nama Prodi             1490 non-null   object \n",
      " 9   sinta_id               1438 non-null   float64\n",
      " 10  Jenis Kelamin          1494 non-null   object \n",
      " 11  Usia                   1494 non-null   int64  \n",
      " 12  sinta_score            1437 non-null   float64\n",
      " 13  sinta_3yr_score        1437 non-null   float64\n",
      " 14  scopus_h_index         1437 non-null   float64\n",
      " 15  gs_h_index             1437 non-null   float64\n",
      " 16  wos_h_index            737 non-null    float64\n",
      " 17  scopus_i10_index       1437 non-null   float64\n",
      " 18  gs_i10_index           1437 non-null   float64\n",
      " 19  wos_i10_index          737 non-null    float64\n",
      " 20  scopus_g_index         1437 non-null   float64\n",
      " 21  gs_g_index             1437 non-null   float64\n",
      " 22  wos_g_index            737 non-null    float64\n",
      " 23  scopus_article         1437 non-null   float64\n",
      " 24  scopus_citation        1437 non-null   float64\n",
      " 25  scopus_cited_document  1437 non-null   float64\n",
      " 26  gs_article             1437 non-null   float64\n",
      " 27  gs_citation            1437 non-null   float64\n",
      " 28  gs_cited_document      1437 non-null   float64\n",
      " 29  wos_article            1437 non-null   float64\n",
      " 30  wos_citation           1437 non-null   float64\n",
      " 31  wos_cited_document     1437 non-null   float64\n",
      "dtypes: float64(22), int64(2), object(8)\n",
      "memory usage: 373.6+ KB\n"
     ]
    }
   ],
   "source": [
    "df.info()"
   ]
  },
  {
   "cell_type": "markdown",
   "id": "d493f172",
   "metadata": {},
   "source": [
    "#### Menampilkan jumlah data kosong df"
   ]
  },
  {
   "cell_type": "code",
   "execution_count": 4,
   "id": "ac0954d2",
   "metadata": {},
   "outputs": [
    {
     "data": {
      "text/plain": [
       "NIP                        0\n",
       "nama                       0\n",
       "Stat.Peg                   0\n",
       "Gol                       17\n",
       "Jabatan Fungsional         0\n",
       "Pendidikan Terakhir        0\n",
       "Fakultas                   0\n",
       "Kode Prodi                 4\n",
       "Nama Prodi                 4\n",
       "sinta_id                  56\n",
       "Jenis Kelamin              0\n",
       "Usia                       0\n",
       "sinta_score               57\n",
       "sinta_3yr_score           57\n",
       "scopus_h_index            57\n",
       "gs_h_index                57\n",
       "wos_h_index              757\n",
       "scopus_i10_index          57\n",
       "gs_i10_index              57\n",
       "wos_i10_index            757\n",
       "scopus_g_index            57\n",
       "gs_g_index                57\n",
       "wos_g_index              757\n",
       "scopus_article            57\n",
       "scopus_citation           57\n",
       "scopus_cited_document     57\n",
       "gs_article                57\n",
       "gs_citation               57\n",
       "gs_cited_document         57\n",
       "wos_article               57\n",
       "wos_citation              57\n",
       "wos_cited_document        57\n",
       "dtype: int64"
      ]
     },
     "execution_count": 4,
     "metadata": {},
     "output_type": "execute_result"
    }
   ],
   "source": [
    "df.isnull().sum()"
   ]
  },
  {
   "cell_type": "markdown",
   "id": "6bfbd7ed",
   "metadata": {},
   "source": [
    "### Jumlah Dosen Berdasarkan Gender"
   ]
  },
  {
   "cell_type": "code",
   "execution_count": 5,
   "id": "6568458c",
   "metadata": {
    "scrolled": true
   },
   "outputs": [
    {
     "data": {
      "image/png": "[encoded data removed]",
      "text/plain": [
       "<Figure size 360x360 with 1 Axes>"
      ]
     },
     "metadata": {},
     "output_type": "display_data"
    }
   ],
   "source": [
    "plt.figure(figsize=(5, 5))\n",
    "\n",
    "# deklarasi countplot dengan x sebagai kolom 'Jenis Kelamin', kemudian diurutkan\n",
    "g = sns.countplot(x=\"Jenis Kelamin\", data = df, order = df['Jenis Kelamin'].value_counts().index)\n",
    "g.set(ylabel='Jumlah Dosen', xlabel='Gender')\n",
    "g.text(0.1,-200,'Data Agustus 2022', fontstyle=\"normal\", fontweight=\"semibold\")\n",
    "plt.suptitle(\"Jumlah Dosen Berdasarkan Gender\" , fontsize = 'large', fontweight = 'regular')\n",
    "\n",
    "# tampilkan value par barplot\n",
    "for p in g.patches:\n",
    "   g.annotate('{:.0f}'.format(p.get_height()), (p.get_x()+0.30, p.get_height()+5))"
   ]
  },
  {
   "cell_type": "markdown",
   "id": "a18971a9",
   "metadata": {},
   "source": [
    "### Jumlah Dosen Berdasarkan Pendidikan Terakhir"
   ]
  },
  {
   "cell_type": "code",
   "execution_count": 6,
   "id": "098e722b",
   "metadata": {
    "scrolled": true
   },
   "outputs": [
    {
     "data": {
      "image/png": "[encoded data removed]",
      "text/plain": [
       "<Figure size 360x360 with 1 Axes>"
      ]
     },
     "metadata": {},
     "output_type": "display_data"
    }
   ],
   "source": [
    "plt.figure(figsize=(5, 5))\n",
    "\n",
    "# deklarasi countplot dengan x sebagai kolom 'Pendidikan Terakhir', kemudian diurutkan\n",
    "g = sns.countplot(x=\"Pendidikan Terakhir\", data = df, order = df['Pendidikan Terakhir'].value_counts().index)\n",
    "g.set(ylabel='Jumlah Dosen')\n",
    "g.text(0.1,-200,'Data Agustus 2022', fontstyle=\"normal\", fontweight=\"semibold\")\n",
    "plt.suptitle(\"Jumlah Dosen Berdasarkan Pendidikan Terakhir\" , fontsize = 'large', fontweight = 'regular')\n",
    "\n",
    "# tampilkan value par barplot\n",
    "for p in g.patches:\n",
    "   g.annotate('{:.0f}'.format(p.get_height()), (p.get_x()+0.35, p.get_height()+10))"
   ]
  },
  {
   "cell_type": "markdown",
   "id": "0ae99c51",
   "metadata": {},
   "source": [
    "### Jumlah Dosen Berdasarkan Golongan"
   ]
  },
  {
   "cell_type": "code",
   "execution_count": 7,
   "id": "ad7b78ef",
   "metadata": {
    "scrolled": true
   },
   "outputs": [
    {
     "data": {
      "image/png": "[encoded data removed]",
      "text/plain": [
       "<Figure size 720x360 with 1 Axes>"
      ]
     },
     "metadata": {},
     "output_type": "display_data"
    }
   ],
   "source": [
    "plt.figure(figsize=(10, 5))\n",
    "\n",
    "# deklarasi countplot dengan x sebagai kolom 'Gol', kemudian diurutkan\n",
    "g = sns.countplot(x=\"Gol\", data = df, order = df['Gol'].value_counts().index)\n",
    "g.set(xlabel='Golongan', ylabel='Jumlah Dosen')\n",
    "g.text(3.1,-125,'Data Agustus 2022', fontstyle=\"normal\", fontweight=\"semibold\")\n",
    "plt.suptitle(\"Jumlah Dosen Berdasarkan Golongan\" , fontsize = 'large', fontweight = 'regular')\n",
    "\n",
    "# tampilkan value par barplot\n",
    "for p in g.patches:\n",
    "   g.annotate('{:.0f}'.format(p.get_height()), (p.get_x()+0.30, p.get_height()+5))"
   ]
  },
  {
   "cell_type": "markdown",
   "id": "3fd5d4ed",
   "metadata": {},
   "source": [
    "### Jumlah Dosen Berdasarkan Jabatan Fungsional"
   ]
  },
  {
   "cell_type": "code",
   "execution_count": 8,
   "id": "613ac9fc",
   "metadata": {
    "scrolled": true
   },
   "outputs": [
    {
     "data": {
      "text/plain": [
       "Text(200, 10.5, 'Data Agustus 2022')"
      ]
     },
     "execution_count": 8,
     "metadata": {},
     "output_type": "execute_result"
    },
    {
     "data": {
      "image/png": "[encoded data removed]",
      "text/plain": [
       "<Figure size 720x360 with 1 Axes>"
      ]
     },
     "metadata": {},
     "output_type": "display_data"
    }
   ],
   "source": [
    "plt.figure(figsize=(10, 5))\n",
    "\n",
    "# deklarasi countplot dengan x sebagai kolom 'Jabatan Fungsional', kemudian diurutkan\n",
    "g = sns.countplot(y=\"Jabatan Fungsional\", data = df, order = df['Jabatan Fungsional'].value_counts().index)\n",
    "g.set(xlabel='Jumlah Dosen')\n",
    "plt.suptitle(\"Jumlah Dosen Berdasarkan Jabatan Fungsional\" , fontsize = 'large', fontweight = 'regular')\n",
    "g.text(200,10.5,'Data Agustus 2022', fontstyle=\"normal\", fontweight=\"semibold\")"
   ]
  },
  {
   "cell_type": "markdown",
   "id": "da8c7301",
   "metadata": {},
   "source": [
    "### Jumlah Dosen Setiap Fakultas"
   ]
  },
  {
   "cell_type": "code",
   "execution_count": 9,
   "id": "0962d68c",
   "metadata": {
    "scrolled": true
   },
   "outputs": [
    {
     "data": {
      "text/plain": [
       "Text(86, 15, 'Data Agustus 2022')"
      ]
     },
     "execution_count": 9,
     "metadata": {},
     "output_type": "execute_result"
    },
    {
     "data": {
      "image/png": "[encoded data removed]",
      "text/plain": [
       "<Figure size 864x432 with 1 Axes>"
      ]
     },
     "metadata": {},
     "output_type": "display_data"
    }
   ],
   "source": [
    "plt.figure(figsize=(12, 6))\n",
    "\n",
    "# deklarasi countplot dengan y sebagai kolom 'Fakultas', kemudian diurutkan\n",
    "g = sns.countplot(y=\"Fakultas\", data=df, order = df['Fakultas'].value_counts().index, palette=\"deep\")\n",
    "g.set(xlabel='Jumlah Dosen')\n",
    "plt.suptitle(\"Jumlah Dosen Setiap Fakultas\" , fontsize = 'large', fontweight = 'regular')\n",
    "g.text(86,15,'Data Agustus 2022', fontstyle=\"normal\", fontweight=\"semibold\")"
   ]
  },
  {
   "cell_type": "markdown",
   "id": "c69d9c1b",
   "metadata": {},
   "source": [
    "### Jumlah Dosen Berdasarkan Gender Setiap Fakultas"
   ]
  },
  {
   "cell_type": "code",
   "execution_count": null,
   "id": "bf662eb0",
   "metadata": {
    "scrolled": false
   },
   "outputs": [],
   "source": [
    "plt.figure(figsize=(12, 8))\n",
    "\n",
    "# deklarasi countplot dengan y sebagai kolom 'Fakultas', dibandingkan dengan kolom 'Jenis Kelamin', dan diurutkan\n",
    "g = sns.countplot(y=\"Fakultas\", hue=\"Jenis Kelamin\", data=df, order=df['Fakultas'].value_counts().index, palette=\"deep\")\n",
    "g.set(xlabel='Jumlah Dosen', ylabel='Fakultas')\n",
    "plt.suptitle(\"Jumlah Dosen Berdasarkan Gender Setiap Fakultas\", y=0.95, fontsize = 'large', fontweight = 'regular')\n",
    "g.text(54,14.3,'Data Agustus 2022', fontstyle=\"normal\", fontweight=\"semibold\")"
   ]
  },
  {
   "cell_type": "markdown",
   "id": "25d5e639",
   "metadata": {},
   "source": [
    "### Jumlah Dosen Berdasarkan Pendidikan Terakhir Setiap Fakultas"
   ]
  },
  {
   "cell_type": "code",
   "execution_count": null,
   "id": "7718e2c6",
   "metadata": {},
   "outputs": [],
   "source": [
    "plt.figure(figsize=(12, 8))\n",
    "\n",
    "# deklarasi countplot dengan y sebagai kolom 'Fakultas', dibandingkan dengan kolom 'Pendidikan Terakhir', dan diurutkan\n",
    "g = sns.countplot(y=\"Fakultas\", hue=\"Pendidikan Terakhir\", data=df, order=df['Fakultas'].value_counts().index, palette=\"deep\")\n",
    "g.set(xlabel='Jumlah Dosen', ylabel='Fakultas')\n",
    "plt.suptitle(\"Jumlah Dosen Berdasarkan Pendidikan Terakhir Setiap Fakultas\",y = 0.94, fontsize = 'large', fontweight = 'regular')\n",
    "g.text(51,14.3,'Data Agustus 2022', fontstyle=\"normal\", fontweight=\"semibold\")"
   ]
  },
  {
   "cell_type": "markdown",
   "id": "3b7fa549",
   "metadata": {},
   "source": [
    "### Distribusi Usia Dosen"
   ]
  },
  {
   "cell_type": "markdown",
   "id": "dd4ca1c3",
   "metadata": {},
   "source": [
    "#### Menampilkan Distribusi Nilai pada Kolom 'Usia'"
   ]
  },
  {
   "cell_type": "code",
   "execution_count": null,
   "id": "f887e9b0",
   "metadata": {
    "scrolled": true
   },
   "outputs": [],
   "source": [
    "df['Usia'].describe()"
   ]
  },
  {
   "cell_type": "markdown",
   "id": "350e430e",
   "metadata": {},
   "source": [
    "#### Menampilkan Distribusi Nilai pada Kolom 'Usia' Menggunakan Boxplot"
   ]
  },
  {
   "cell_type": "code",
   "execution_count": null,
   "id": "cb3eaae5",
   "metadata": {
    "scrolled": true
   },
   "outputs": [],
   "source": [
    "ax = sns.boxplot(data=df, x=\"Usia\")"
   ]
  },
  {
   "cell_type": "markdown",
   "id": "a0e1c505",
   "metadata": {},
   "source": [
    "### Tingkat Kedalaman Usia Dosen Berdasarkan Gender"
   ]
  },
  {
   "cell_type": "code",
   "execution_count": null,
   "id": "70e658d0",
   "metadata": {
    "scrolled": true
   },
   "outputs": [],
   "source": [
    "# deklarasi displot dengan x sebagai kolom 'Usia', dibandingkan dengan kolom 'Jenis Kelamin'\n",
    "g = sns.displot(df, x=\"Usia\", hue=\"Jenis Kelamin\", kind=\"kde\", fill=True)\n",
    "g.fig.set_figwidth(10)\n",
    "plt.title(\"Tingkat Kedalaman Usia Dosen Berdasarkan Gender\", fontsize=16)\n"
   ]
  },
  {
   "cell_type": "markdown",
   "id": "55808e9f",
   "metadata": {},
   "source": [
    "### Tingkat Kedalaman Usia Dosen Berdasarkan Pendidikan Terakhir"
   ]
  },
  {
   "cell_type": "code",
   "execution_count": null,
   "id": "f3b25b99",
   "metadata": {
    "scrolled": true
   },
   "outputs": [],
   "source": [
    "# deklarasi displot dengan x sebagai kolom 'Usia', dibandingkan dengan kolom 'Pendidikan Terakhir'\n",
    "g = sns.displot(df, x=\"Usia\", hue=\"Pendidikan Terakhir\", kind=\"kde\", fill=True)\n",
    "g.fig.set_figwidth(10)\n",
    "plt.title(\"Tingkat Kedalaman Usia Dosen Berdasarkan Pendidikan Terakhir\", fontsize=16)"
   ]
  },
  {
   "cell_type": "markdown",
   "id": "dca4bcc4",
   "metadata": {},
   "source": [
    "### Distribusi Usia Dosen Berdasarkan Gender Setiap Fakultas"
   ]
  },
  {
   "cell_type": "code",
   "execution_count": null,
   "id": "81c6b59a",
   "metadata": {
    "scrolled": true
   },
   "outputs": [],
   "source": [
    "plt.figure(figsize=(10, 10))\n",
    "\n",
    "# deklarasi boxplot dengan x sebagai kolom 'Usia' dan y sebagai kolom 'Fakultas', dibandingkan dengan kolom 'Jenis Kelamin'\n",
    "# kemudian diurutkan\n",
    "g = sns.boxplot(x=\"Usia\", y=\"Fakultas\", hue=\"Jenis Kelamin\", data=df, \n",
    "                order = df['Fakultas'].value_counts().index, palette=\"deep\")\n",
    "g.text(46, 13.9,'Data Agustus 2022', fontstyle=\"normal\", fontweight=\"semibold\")\n",
    "plt.suptitle(\"Distribusi Usia Dosen Berdasarkan Gender Setiap Fakultas\", y=0.94, fontsize = 'large', fontweight = 'regular')"
   ]
  },
  {
   "cell_type": "markdown",
   "id": "7eace9c4",
   "metadata": {},
   "source": [
    "### Distribusi Usia Dosen Berdasarkan Pendidikan Terakhir Setiap Fakultas"
   ]
  },
  {
   "cell_type": "code",
   "execution_count": null,
   "id": "9c6b7b23",
   "metadata": {
    "scrolled": true
   },
   "outputs": [],
   "source": [
    "plt.figure(figsize=(10, 10))\n",
    "\n",
    "# deklarasi boxplot dengan x sebagai kolom 'Usia' dan y sebagai kolom 'Fakultas', dibandingkan dengan kolom 'Pendidikan Terakhir'\n",
    "# kemudian diurutkan\n",
    "g = sns.boxplot(x=\"Usia\", y=\"Fakultas\", hue=\"Pendidikan Terakhir\", data=df, \n",
    "                order = df['Fakultas'].value_counts().index, palette=\"deep\")\n",
    "g.text(46, 13.9,'Data Agustus 2022', fontstyle=\"normal\", fontweight=\"semibold\")\n",
    "plt.suptitle(\"Distribusi Usia Dosen Berdasarkan Pendidikan Terakhir Setiap Fakultas\", y=0.94, fontsize = 'large', fontweight = 'regular')"
   ]
  },
  {
   "cell_type": "markdown",
   "id": "6627c82a",
   "metadata": {},
   "source": [
    "### Distribusi Scopus H Index"
   ]
  },
  {
   "cell_type": "markdown",
   "id": "8ae26fdb",
   "metadata": {},
   "source": [
    "#### Menampilkan Distribusi Nilai pada Kolom 'scopus_h_index'"
   ]
  },
  {
   "cell_type": "code",
   "execution_count": null,
   "id": "d2088bb3",
   "metadata": {
    "scrolled": false
   },
   "outputs": [],
   "source": [
    "df['scopus_h_index'].describe()"
   ]
  },
  {
   "cell_type": "markdown",
   "id": "8738c46a",
   "metadata": {},
   "source": [
    "#### Menampilkan Distribusi Nilai pada Kolom 'scopus_h_index' Menggunakan Boxplot"
   ]
  },
  {
   "cell_type": "code",
   "execution_count": null,
   "id": "c7e45d18",
   "metadata": {
    "scrolled": false
   },
   "outputs": [],
   "source": [
    "ax = sns.boxplot(data=df, x=\"scopus_h_index\")\n",
    "ax.set(xlabel='Scopus H Index')"
   ]
  },
  {
   "cell_type": "markdown",
   "id": "b28b8644",
   "metadata": {},
   "source": [
    "#### Mengecek Distribusi Data Kolom 'scopus_h_index Range(0, 15)"
   ]
  },
  {
   "cell_type": "markdown",
   "id": "be735e31",
   "metadata": {},
   "source": [
    "Dari distrbusi nilai di bawah ini dapat diketahui bahwa hampir sebagian dari dosen memiliki Scopus H Index bernilai 0.\n",
    "Untuk itu perlu menghapus data outlier yaitu 10 persen data teratas"
   ]
  },
  {
   "cell_type": "code",
   "execution_count": null,
   "id": "534d6970",
   "metadata": {
    "scrolled": true
   },
   "outputs": [],
   "source": [
    "scopus_hindex = range(0, 15)\n",
    "data_dist = df.scopus_h_index.value_counts()[scopus_hindex]\n",
    "print(data_dist)"
   ]
  },
  {
   "cell_type": "markdown",
   "id": "39795fe2",
   "metadata": {},
   "source": [
    "#### Drop Data 10 Persen Teratas dari Kolom 'scopus_h_index'"
   ]
  },
  {
   "cell_type": "code",
   "execution_count": null,
   "id": "efba74b8",
   "metadata": {},
   "outputs": [],
   "source": [
    "df_sort_scopus_hindex = df.sort_values(by=\"scopus_h_index\", ascending=False)\n",
    "\n",
    "n = 10\n",
    "df_topten = df_sort_scopus_hindex.head(int(len(df_sort_scopus_hindex)*(n/100)))\n",
    "df_final = list(df_topten.nama.values)\n",
    "\n",
    "df_topten_scopus = df[~df.nama.isin(df_final)]\n",
    "df_topten_scopus['nama'].iat[556]"
   ]
  },
  {
   "cell_type": "markdown",
   "id": "79a11703",
   "metadata": {},
   "source": [
    "#### Menampilkan Distribusi Nilai pada Kolom 'scopus_h_index' Setelah Praproses"
   ]
  },
  {
   "cell_type": "code",
   "execution_count": null,
   "id": "cad70048",
   "metadata": {
    "scrolled": true
   },
   "outputs": [],
   "source": [
    "# df_scopus_hindex = df[df.scopus_h_index < 15]\n",
    "ax = sns.boxplot(data=df_topten_scopus, x=\"scopus_h_index\")\n",
    "ax.set(xlabel='Scopus H Index')"
   ]
  },
  {
   "cell_type": "code",
   "execution_count": null,
   "id": "95a7329f",
   "metadata": {},
   "outputs": [],
   "source": [
    "ax = sns.histplot(data=df_topten_scopus, x=\"scopus_h_index\", binwidth=1)\n",
    "ax.set(xlabel='Scopus H Index', ylabel='Jumlah Dosen')"
   ]
  },
  {
   "cell_type": "markdown",
   "id": "cf8d018c",
   "metadata": {},
   "source": [
    "### Distribusi Scopus H Index Setiap Fakultas"
   ]
  },
  {
   "cell_type": "code",
   "execution_count": null,
   "id": "bf2e9799",
   "metadata": {
    "scrolled": true
   },
   "outputs": [],
   "source": [
    "plt.figure(figsize=(10, 8))\n",
    "\n",
    "# deklarasi boxplot dengan x sebagai kolom 'scopus_h_index' dan y sebagai kolom 'Fakultas', kemudian diurutkan\n",
    "g = sns.boxplot(x ='scopus_h_index', y = 'Fakultas', data = df_topten_scopus, order = df['Fakultas'].value_counts().index, palette=\"deep\", width=0.7)\n",
    "g.set(xlabel='Scopus H Index', ylabel='Fakultas')\n",
    "g.text(1.6, 14.3,'Data Agustus 2022', fontstyle=\"normal\", fontweight=\"semibold\")\n",
    "plt.suptitle(\"Distribusi Scopus H Index Setiap Fakultas\", y=0.95, fontsize = 'large', fontweight = 'regular')\n",
    "plt.show()"
   ]
  },
  {
   "cell_type": "markdown",
   "id": "aab80164",
   "metadata": {},
   "source": [
    "### Distribusi Scopus H Index Berdasarkan Gender Dosen Setiap Fakultas"
   ]
  },
  {
   "cell_type": "code",
   "execution_count": null,
   "id": "d36c1c7d",
   "metadata": {
    "scrolled": true
   },
   "outputs": [],
   "source": [
    "plt.figure(figsize=(12, 10))\n",
    "\n",
    "# deklarasi boxplot dengan x sebagai kolom 'scopus_h_index' dan y sebagai kolom 'Fakultas', dibandingkan dengan kolom 'Jenis Kelamin'\n",
    "# kemudian diurutkan\n",
    "g = sns.boxplot(x ='scopus_h_index', y = 'Fakultas', hue='Jenis Kelamin', data = df_topten_scopus, order = df['Fakultas'].value_counts().index, palette=\"deep\", width=0.8)\n",
    "g.set(xlabel='Scopus H Index', ylabel='Fakultas')\n",
    "g.text(1.65, 14,'Data Agustus 2022', fontstyle=\"normal\", fontweight=\"semibold\")\n",
    "plt.suptitle(\"Distribusi Scopus H Index Berdasarkan Gender Setiap Fakultas\" , y=0.95, fontsize = 'large', fontweight = 'regular')\n",
    "plt.show()"
   ]
  },
  {
   "cell_type": "markdown",
   "id": "8ccb1b8e",
   "metadata": {},
   "source": [
    "### Distribusi Scopus H Index Berdasarkan Pendidikan Terakhir Dosen Setiap Fakultas"
   ]
  },
  {
   "cell_type": "code",
   "execution_count": null,
   "id": "7ab1ff1e",
   "metadata": {
    "scrolled": true
   },
   "outputs": [],
   "source": [
    "plt.figure(figsize=(12, 10))\n",
    "\n",
    "# deklarasi boxplot dengan x sebagai kolom 'scopus_h_index' dan y sebagai kolom 'Fakultas', dibandingkan dengan kolom 'Jenis Kelamin'\n",
    "# kemudian diurutkan\n",
    "g = sns.boxplot(x ='scopus_h_index', y = 'Fakultas', hue='Pendidikan Terakhir', data = df_topten_scopus, order = df['Fakultas'].value_counts().index, palette=\"deep\", width=0.8)\n",
    "g.set(xlabel='Scopus H Index', ylabel='Fakultas')\n",
    "g.text(1.65, 13.9,'Data Agustus 2022', fontstyle=\"normal\", fontweight=\"semibold\")\n",
    "plt.suptitle(\"Distribusi Scopus H Index Berdasarkan Jenis Kelamin Setiap Fakultas\", y=0.95, fontsize = 'large', fontweight = 'regular')\n",
    "plt.show()"
   ]
  },
  {
   "cell_type": "markdown",
   "id": "eb85f743",
   "metadata": {},
   "source": [
    "### Distribusi SINTA 3yr Score"
   ]
  },
  {
   "cell_type": "markdown",
   "id": "11b682ff",
   "metadata": {},
   "source": [
    "#### Menampilkan Distribusi Nilai pada Kolom 'sinta_3yr_score'"
   ]
  },
  {
   "cell_type": "code",
   "execution_count": null,
   "id": "52cfd54d",
   "metadata": {
    "scrolled": false
   },
   "outputs": [],
   "source": [
    "df['sinta_3yr_score'].describe()"
   ]
  },
  {
   "cell_type": "markdown",
   "id": "718ffae0",
   "metadata": {},
   "source": [
    "#### Menampilkan Distribusi Nilai pada Kolom 'sinta_3yr_score' Menggunakan Boxplot"
   ]
  },
  {
   "cell_type": "code",
   "execution_count": null,
   "id": "d492619d",
   "metadata": {
    "scrolled": true
   },
   "outputs": [],
   "source": [
    "df_scopus_hindex = df[df.sinta_3yr_score < 3000]\n",
    "ax = sns.boxplot(data=df, x=\"sinta_3yr_score\")\n",
    "ax.set(xlabel='SINTA 3yr Score')"
   ]
  },
  {
   "cell_type": "markdown",
   "id": "862f86f8",
   "metadata": {},
   "source": [
    "#### Drop Data 10 Persen Teratas dari Kolom 'sinta_3yr_score'"
   ]
  },
  {
   "cell_type": "code",
   "execution_count": null,
   "id": "dd66eb1e",
   "metadata": {},
   "outputs": [],
   "source": [
    "df_sort_sinta3yr = df.sort_values(by=\"sinta_3yr_score\", ascending=False)\n",
    "\n",
    "n = 10\n",
    "df_topten = df_sort_sinta3yr.head(int(len(df_sort_sinta3yr)*(n/100)))\n",
    "df_final = list(df_topten.nama.values)\n",
    "\n",
    "# print(df_final)\n",
    "\n",
    "df_topten_sinta3yr = df[~df.nama.isin(df_final)]\n",
    "df_topten_sinta3yr['nama'].iat[556]\n",
    "\n",
    "# df_sinta_3yrscore = df[df.sinta_3yr_score < 350]\n",
    "# ax = sns.boxplot(data=df_sinta_3yrscore, x=\"sinta_3yr_score\")"
   ]
  },
  {
   "cell_type": "markdown",
   "id": "5c46bda0",
   "metadata": {},
   "source": [
    "#### Menampilkan Distribusi Nilai pada Kolom 'sinta_3yr_score' Setelah Praproses"
   ]
  },
  {
   "cell_type": "code",
   "execution_count": null,
   "id": "983685d4",
   "metadata": {},
   "outputs": [],
   "source": [
    "ax = sns.boxplot(data=df_topten_sinta3yr, x=\"sinta_3yr_score\")\n",
    "ax.set(xlabel='SINTA 3yr Score')"
   ]
  },
  {
   "cell_type": "code",
   "execution_count": null,
   "id": "e43d7fee",
   "metadata": {},
   "outputs": [],
   "source": [
    "ax = sns.histplot(data=df_topten_sinta3yr, x=\"sinta_3yr_score\")\n",
    "ax.set(xlabel='SINTA 3yr Score', ylabel='Jumlah Dosen')"
   ]
  },
  {
   "cell_type": "markdown",
   "id": "75038ca5",
   "metadata": {},
   "source": [
    "### Distribusi SINTA 3yr Score Setiap Fakultas"
   ]
  },
  {
   "cell_type": "code",
   "execution_count": null,
   "id": "26f2aba5",
   "metadata": {
    "scrolled": true
   },
   "outputs": [],
   "source": [
    "plt.figure(figsize=(10, 8))\n",
    "\n",
    "# deklarasi boxplot dengan x sebagai kolom 'sinta_3yr_score' dan y sebagai kolom 'Fakultas', kemudian diurutkan\n",
    "g = sns.boxplot(x ='sinta_3yr_score', y = 'Fakultas', data = df_topten_sinta3yr, order = df['Fakultas'].value_counts().index, palette=\"deep\", width=0.7)\n",
    "g.set(xlabel='SINTA 3yr Score', ylabel='Fakultas')\n",
    "g.text(140, 14.4,'Data Agustus 2022', fontstyle=\"normal\", fontweight=\"semibold\")\n",
    "plt.suptitle(\"Distribusi SINTA 3yr Score Setiap Fakultas\", y=0.95, fontsize = 'large', fontweight = 'regular')\n",
    "plt.show()"
   ]
  },
  {
   "cell_type": "markdown",
   "id": "c1e84fd5",
   "metadata": {},
   "source": [
    "### Distribusi SINTA 3yr Score Berdasarkan Gender Dosen Setiap Fakultas"
   ]
  },
  {
   "cell_type": "code",
   "execution_count": null,
   "id": "2780462c",
   "metadata": {
    "scrolled": true
   },
   "outputs": [],
   "source": [
    "plt.figure(figsize=(10, 10))\n",
    "\n",
    "# deklarasi boxplot dengan x sebagai kolom 'sinta_3yr_score' dan y sebagai kolom 'Fakultas', dibandingkan dengan kolom 'Jenis Kelamin'\n",
    "# kemudian diurutkan\n",
    "g = sns.boxplot(x ='sinta_3yr_score', y = 'Fakultas', hue='Jenis Kelamin', data = df_topten_sinta3yr, order = df['Fakultas'].value_counts().index, palette=\"deep\", width=0.8)\n",
    "g.set(xlabel='SINTA 3yr Score', ylabel='Fakultas')\n",
    "g.text(144, 14,'Data Agustus 2022', fontstyle=\"normal\", fontweight=\"semibold\")\n",
    "plt.suptitle(\"Distribusi SINTA 3yr Score Berdasarkan Gender Setiap Fakultas\", y=0.94, fontsize = 'large', fontweight = 'regular')\n",
    "plt.show()"
   ]
  },
  {
   "cell_type": "markdown",
   "id": "e4347a6c",
   "metadata": {},
   "source": [
    "### Distribusi SINTA 3yr Score Berdasarkan Pendidikan Terakhir Dosen Setiap Fakultas"
   ]
  },
  {
   "cell_type": "code",
   "execution_count": null,
   "id": "7876e53e",
   "metadata": {},
   "outputs": [],
   "source": [
    "plt.figure(figsize=(10, 10))\n",
    "\n",
    "# deklarasi boxplot dengan x sebagai kolom 'sinta_3yr_score' dan y sebagai kolom 'Fakultas', dibandingkan dengan kolom 'Pendidikan Terakhir'\n",
    "# kemudian diurutkan\n",
    "g = sns.boxplot(x ='sinta_3yr_score', y = 'Fakultas', hue='Pendidikan Terakhir', data = df_topten_sinta3yr, order = df['Fakultas'].value_counts().index, palette=\"deep\", width=0.8)\n",
    "g.set(xlabel='SINTA 3yr Score', ylabel='Fakultas')\n",
    "g.text(140, 14,'Data Agustus 2022', fontstyle=\"normal\", fontweight=\"semibold\")\n",
    "plt.suptitle(\"Distribusi SINTA 3yr Score Berdasarkan Pendidikan Terakhir Setiap Fakultas\", y=0.94, fontsize = 'large', fontweight = 'regular')\n",
    "plt.show()"
   ]
  },
  {
   "cell_type": "markdown",
   "id": "794cd106",
   "metadata": {},
   "source": [
    "### Distribusi SINTA Score"
   ]
  },
  {
   "cell_type": "markdown",
   "id": "8cb97747",
   "metadata": {},
   "source": [
    "#### Menampilkan Distribusi Nilai pada Kolom 'sinta_score'"
   ]
  },
  {
   "cell_type": "code",
   "execution_count": null,
   "id": "35123850",
   "metadata": {
    "scrolled": true
   },
   "outputs": [],
   "source": [
    "df['sinta_score'].describe()"
   ]
  },
  {
   "cell_type": "markdown",
   "id": "653d541e",
   "metadata": {},
   "source": [
    "#### Menampilkan Distribusi Nilai pada Kolom 'sinta_score' Menggunakan Boxplot"
   ]
  },
  {
   "cell_type": "code",
   "execution_count": null,
   "id": "5594ade1",
   "metadata": {
    "scrolled": true
   },
   "outputs": [],
   "source": [
    "ax = sns.boxplot(data=df, x=\"sinta_score\")\n",
    "ax.set(xlabel='SINTA Score')"
   ]
  },
  {
   "cell_type": "markdown",
   "id": "bbf0d377",
   "metadata": {},
   "source": [
    "#### Drop Data 10 Persen Teratas dari Kolom 'sinta_score'"
   ]
  },
  {
   "cell_type": "code",
   "execution_count": null,
   "id": "de73da9e",
   "metadata": {},
   "outputs": [],
   "source": [
    "df_sort_sinta = df.sort_values(by=\"sinta_score\", ascending=False)\n",
    "\n",
    "n = 10\n",
    "df_topten = df_sort_sinta.head(int(len(df_sort_sinta)*(n/100)))\n",
    "df_final = list(df_topten.nama.values)\n",
    "\n",
    "df_topten_sinta = df[~df.nama.isin(df_final)]\n",
    "df_topten_sinta['nama'].iat[556]"
   ]
  },
  {
   "cell_type": "markdown",
   "id": "2636c0b2",
   "metadata": {},
   "source": [
    "#### Menampilkan Distribusi Nilai pada Kolom 'sinta_score' Setelah Praproses"
   ]
  },
  {
   "cell_type": "code",
   "execution_count": null,
   "id": "848ca559",
   "metadata": {},
   "outputs": [],
   "source": [
    "ax = sns.boxplot(data=df_topten_sinta, x=\"sinta_score\")\n",
    "ax.set(xlabel='SINTA Score')"
   ]
  },
  {
   "cell_type": "code",
   "execution_count": null,
   "id": "4db17f56",
   "metadata": {},
   "outputs": [],
   "source": [
    "ax = sns.histplot(data=df_topten_sinta, x=\"sinta_score\")\n",
    "ax.set(xlabel='SINTA Score', ylabel='Jumlah Dosen')"
   ]
  },
  {
   "cell_type": "markdown",
   "id": "dd925dc4",
   "metadata": {},
   "source": [
    "### Distribusi SINTA Score Setiap Fakultas"
   ]
  },
  {
   "cell_type": "code",
   "execution_count": null,
   "id": "b7478859",
   "metadata": {
    "scrolled": true
   },
   "outputs": [],
   "source": [
    "plt.figure(figsize=(10, 8))\n",
    "\n",
    "# deklarasi boxplot dengan x sebagai kolom 'sinta_score' dan y sebagai kolom 'Fakultas', kemudian diurutkan\n",
    "fakul = df_topten_sinta\n",
    "fakul.rename(columns = {'Fakultas':'fakul'}, inplace = True)\n",
    "\n",
    "df_fakul_sinta = fakul.groupby('fakul')[\"sinta_score\"].median().reset_index()\n",
    "\n",
    "top_5fakul_sinta = df_fakul_sinta.sort_values(by=\"sinta_score\", ascending=False)\n",
    "\n",
    "# top_5fakul_sinta.head()\n",
    "fig = sns.boxplot(x ='sinta_score', y = 'fakul', data = df_topten_sinta, order = top_5fakul_sinta['fakul'], palette=\"deep\", width=0.7)\n",
    "fig.set(xlabel='SINTA Score', ylabel='Fakultas')\n",
    "fig.text(300, 14.4,'Data Agustus 2022', fontstyle=\"normal\", fontweight=\"semibold\")\n",
    "plt.suptitle(\"Distribusi SINTA Score Setiap Fakultas\", y=0.95, fontsize = 'large', fontweight = 'regular')\n",
    "plt.show()"
   ]
  },
  {
   "cell_type": "markdown",
   "id": "6af67d13",
   "metadata": {},
   "source": [
    "### Distribusi SINTA Score Berdasarkan Gender Dosen Setiap Fakultas"
   ]
  },
  {
   "cell_type": "code",
   "execution_count": null,
   "id": "4bcaa51c",
   "metadata": {
    "scrolled": true
   },
   "outputs": [],
   "source": [
    "plt.figure(figsize=(10, 10))\n",
    "\n",
    "# deklarasi boxplot dengan x sebagai kolom 'sinta_score' dan y sebagai kolom 'Fakultas', dibandingkan dengan kolom 'Jenis Kelamin'\n",
    "# kemudian diurutkan\n",
    "g = sns.boxplot(x ='sinta_score', y = 'fakul', hue='Jenis Kelamin', data = df_topten_sinta, order = top_5fakul_sinta['fakul'], palette=\"deep\", width=0.8)\n",
    "g.set(xlabel='SINTA Score', ylabel='Fakultas')\n",
    "g.text(300, 14.1,'Data Agustus 2022', fontstyle=\"normal\", fontweight=\"semibold\")\n",
    "plt.suptitle(\"Distribusi SINTA Score Berdasarkan Gender Setiap Fakultas\", y=0.95, fontsize = 'large', fontweight = 'regular')\n",
    "plt.show()"
   ]
  },
  {
   "cell_type": "markdown",
   "id": "35b3f72b",
   "metadata": {},
   "source": [
    "### Distribusi SINTA Score Berdasarkan Pendidikan Terakhir Dosen Setiap Fakultas"
   ]
  },
  {
   "cell_type": "code",
   "execution_count": null,
   "id": "1f857522",
   "metadata": {},
   "outputs": [],
   "source": [
    "plt.figure(figsize=(10, 10))\n",
    "\n",
    "# deklarasi boxplot dengan x sebagai kolom 'sinta_score' dan y sebagai kolom 'Fakultas', dibandingkan dengan kolom 'Pendidikan Terakhir'\n",
    "# kemudian diurutkan\n",
    "g = sns.boxplot(x ='sinta_score', y = 'fakul', hue='Pendidikan Terakhir', data = df_topten_sinta, order = top_5fakul_sinta['fakul'], palette=\"deep\", width=0.8)\n",
    "g.set(xlabel='SINTA Score', ylabel='Fakultas')\n",
    "g.text(300, 14.1,'Data Agustus 2022', fontstyle=\"normal\", fontweight=\"semibold\")\n",
    "plt.suptitle(\"Distribusi SINTA Score Berdasarkan Pendidikan Terakhir Setiap Fakultas\", y=0.94, fontsize = 'large', fontweight = 'regular')\n",
    "plt.show()"
   ]
  },
  {
   "cell_type": "markdown",
   "id": "ca786ecd",
   "metadata": {},
   "source": [
    "### Perbandingan Distribusi H indeks pada Scopus, Google Scholar, dan Web of Science"
   ]
  },
  {
   "cell_type": "code",
   "execution_count": null,
   "id": "84c5ab07",
   "metadata": {
    "scrolled": true
   },
   "outputs": [],
   "source": [
    "df_sort_gs = df.sort_values(by=\"gs_h_index\", ascending=False)\n",
    "df_sort_wos = df.sort_values(by=\"wos_h_index\", ascending=False)\n",
    "\n",
    "n = 10\n",
    "m = 5\n",
    "df_topten1 = df_sort_gs.head(int(len(df_sort_gs)*(n/100)))\n",
    "df_topten2 = df_sort_wos.head(int(len(df_sort_wos)*(m/100)))\n",
    "df_final1 = list(df_topten1.nama.values)\n",
    "df_final2 = list(df_topten2.nama.values)\n",
    "\n",
    "df_topten_gs = df[~df.nama.isin(df_final1)]\n",
    "df_topten_wos = df[~df.nama.isin(df_final2)]\n",
    "\n",
    "    \n",
    "fig, axes = plt.subplots(1, 3, figsize=(14, 4))\n",
    "fig.tight_layout()\n",
    "fig.tight_layout(pad=3)\n",
    "\n",
    "fig.suptitle(\"Perbandingan Distribusi H Indeks pada Scopus, Google Scholar, dan Web of Science\" , fontsize = 'large', fontweight = 'bold', y=1)\n",
    "\n",
    "scopus = sns.boxplot(x='scopus_h_index', data = df_topten_scopus, palette=\"deep\", ax=axes[0])\n",
    "\n",
    "gs = sns.boxplot(x='gs_h_index', data = df_topten_gs, palette=\"deep\", ax=axes[1])\n",
    "\n",
    "wos = sns.boxplot(x='wos_h_index', data = df_topten_wos, palette=\"deep\", ax=axes[2])\n",
    "\n",
    "scopus.set_title('Distribusi Scopus H Index',fontweight=\"bold\", size=13)\n",
    "scopus.set_xlabel('Scopus H Index', fontsize = 12)\n",
    "scopus.set_ylabel('')\n",
    "\n",
    "gs.set_title('Distribusi Google Scholar H Index',fontweight=\"bold\", size=13)\n",
    "gs.set_xlabel('Google Scholar H Index', fontsize = 12)\n",
    "gs.set_ylabel('')\n",
    "\n",
    "wos.set_title('Distribusi WOS H Index',fontweight=\"bold\", size=13)\n",
    "wos.set_xlabel('WOS H Index', fontsize = 12)\n",
    "wos.set_ylabel('')\n",
    "\n",
    "fig, axes = plt.subplots(1, 3, figsize=(13.6, 4))\n",
    "fig.tight_layout()\n",
    "fig.tight_layout(pad=3)\n",
    "\n",
    "\n",
    "scopus = sns.histplot(x='scopus_h_index', data = df_topten_scopus, binwidth=1, palette=\"deep\", ax=axes[0])\n",
    "\n",
    "gs = sns.histplot(x='gs_h_index', data = df_topten_gs, binwidth=1, palette=\"deep\", ax=axes[1])\n",
    "\n",
    "wos = sns.histplot(x='wos_h_index', data = df_topten_wos,  binwidth=0.7, palette=\"deep\", ax=axes[2])\n",
    "\n",
    "scopus.set_title('Distribusi Scopus H Index',fontweight=\"bold\", size=13)\n",
    "scopus.set_xlabel('Scopus H Index', fontsize = 12)\n",
    "scopus.set_ylabel('')\n",
    "\n",
    "gs.set_title('Distribusi Google Scholar H Index',fontweight=\"bold\", size=13)\n",
    "gs.set_xlabel('Google Scholar H Index', fontsize = 12)\n",
    "gs.set_ylabel('')\n",
    "\n",
    "wos.set_title('Distribusi WOS H Index',fontweight=\"bold\", size=13)\n",
    "wos.set_xlabel('WOS H Index', fontsize = 12)\n",
    "wos.set_ylabel('')\n",
    "\n",
    "plt.show()"
   ]
  },
  {
   "cell_type": "markdown",
   "id": "c2e08e71",
   "metadata": {},
   "source": [
    "### Top 5 Fakultas Berdasarkan Median Scopus H Index dan Google Scholar H Index"
   ]
  },
  {
   "cell_type": "code",
   "execution_count": null,
   "id": "26249878",
   "metadata": {
    "scrolled": true
   },
   "outputs": [],
   "source": [
    "fpmipa = df.loc[df['Fakultas'] == 'FPMIPA', 'scopus_h_index'].median()\n",
    "fpips = df.loc[df['Fakultas'] == 'FPIPS', 'scopus_h_index'].median()\n",
    "fip = df.loc[df['Fakultas'] == 'FIP', 'scopus_h_index'].median()\n",
    "fptk = df.loc[df['Fakultas'] == 'FPTK', 'scopus_h_index'].median()\n",
    "fpbs = df.loc[df['Fakultas'] == 'FPBS', 'scopus_h_index'].median()\n",
    "fpok = df.loc[df['Fakultas'] == 'FPOK', 'scopus_h_index'].median()\n",
    "fpeb = df.loc[df['Fakultas'] == 'FPEB', 'scopus_h_index'].median()\n",
    "fpsd = df.loc[df['Fakultas'] == 'FPSD', 'scopus_h_index'].median()\n",
    "kamda_cibiru = df.loc[df['Fakultas'] == 'Kampus UPI di Cibiru', 'scopus_h_index'].median()\n",
    "kamda_smd = df.loc[df['Fakultas'] == 'Kampus UPI di Sumedang', 'scopus_h_index'].median()\n",
    "kamda_tasik = df.loc[df['Fakultas'] == 'Kampus UPI di Tasikmalaya', 'scopus_h_index'].median()\n",
    "kamda_pwk = df.loc[df['Fakultas'] == 'Kampus UPI di Purwakarta', 'scopus_h_index'].median()\n",
    "kamda_serang = df.loc[df['Fakultas'] == 'Kampus UPI di Serang', 'scopus_h_index'].median()\n",
    "\n",
    "fpmipa2 = df.loc[df['Fakultas'] == 'FPMIPA', 'gs_h_index'].median()\n",
    "fpips2 = df.loc[df['Fakultas'] == 'FPIPS', 'gs_h_index'].median()\n",
    "fip2 = df.loc[df['Fakultas'] == 'FIP', 'gs_h_index'].median()\n",
    "fptk2 = df.loc[df['Fakultas'] == 'FPTK', 'gs_h_index'].median()\n",
    "fpbs2 = df.loc[df['Fakultas'] == 'FPBS', 'gs_h_index'].median()\n",
    "fpok2 = df.loc[df['Fakultas'] == 'FPOK', 'gs_h_index'].median()\n",
    "fpeb2 = df.loc[df['Fakultas'] == 'FPEB', 'gs_h_index'].median()\n",
    "fpsd2 = df.loc[df['Fakultas'] == 'FPSD', 'gs_h_index'].median()\n",
    "kamda_cibiru2 = df.loc[df['Fakultas'] == 'Kampus UPI di Cibiru', 'gs_h_index'].median()\n",
    "kamda_smd2 = df.loc[df['Fakultas'] == 'Kampus UPI di Sumedang', 'gs_h_index'].median()\n",
    "kamda_tasik2 = df.loc[df['Fakultas'] == 'Kampus UPI di Tasikmalaya', 'gs_h_index'].median()\n",
    "kamda_pwk2 = df.loc[df['Fakultas'] == 'Kampus UPI di Purwakarta', 'gs_h_index'].median()\n",
    "kamda_serang2 = df.loc[df['Fakultas'] == 'Kampus UPI di Serang', 'gs_h_index'].median()\n",
    "\n",
    "data1 = [['FPMIPA', fpmipa], ['FPIPS', fpips], ['FIP', fip], ['FPTK', fptk], ['FPBS', fpbs], ['FPOK', fpok], ['FPEB', fpeb], ['FPSD', fpsd],\n",
    "       ['Kampus UPI di Cibiru', kamda_cibiru], ['Kampus UPI di Sumedang', kamda_smd], ['Kampus UPI di Tasikmalaya', kamda_tasik], \n",
    "       ['Kampus UPI di Purwakarta', kamda_pwk], ['Kampus UPI di Serang', kamda_serang]]\n",
    "\n",
    "data2 = [['FPMIPA', fpmipa2], ['FPIPS', fpips2], ['FIP', fip2], ['FPTK', fptk2], ['FPBS', fpbs2], ['FPOK', fpok2], ['FPEB', fpeb2], ['FPSD', fpsd2],\n",
    "       ['Kampus UPI di Cibiru', kamda_cibiru2], ['Kampus UPI di Sumedang', kamda_smd2], ['Kampus UPI di Tasikmalaya', kamda_tasik2], \n",
    "       ['Kampus UPI di Purwakarta', kamda_pwk2], ['Kampus UPI di Serang', kamda_serang2]]\n",
    "\n",
    "df_top_fakul_scopus = pd.DataFrame(data1, columns=['Fakultas', 'Scopus H Index Mean'])\n",
    "df_top_fakul_gs = pd.DataFrame(data2, columns=['Fakultas', 'GS H Index Mean'])\n",
    "\n",
    "\n",
    "top_5fakul_scopus = df_top_fakul_scopus.sort_values(by=\"Scopus H Index Mean\", ascending=False).head(5)\n",
    "top_5fakul_gs = df_top_fakul_gs.sort_values(by=\"GS H Index Mean\", ascending=False).head(5)\n",
    "\n",
    "\n",
    "fig, axes = plt.subplots(2, 1, figsize=(10, 8))\n",
    "fig.tight_layout()\n",
    "fig.tight_layout(pad=5)\n",
    "\n",
    "fig.suptitle(\"Top 5 Fakultas Berdasarkan Median Scopus H Index dan Google Scholar H Index\"\n",
    "             , fontsize = 'large', fontweight = 'bold', y=1)\n",
    "\n",
    "scopus_hindex = sns.barplot(x='Scopus H Index Mean', y='Fakultas', data = top_5fakul_scopus, palette=\"deep\", ax=axes[0])\n",
    "gs_hindex = sns.barplot(x='GS H Index Mean', y='Fakultas', data = top_5fakul_gs, palette=\"deep\", ax=axes[1])\n",
    "\n",
    "scopus_hindex.set_title('Top 5 Fakultas Berdasarkan Median Scopus H Index',fontweight=\"bold\", size=13)\n",
    "scopus_hindex.set_xlabel('Median Scopus H Index', fontsize = 12)\n",
    "scopus_hindex.set_ylabel('')\n",
    "\n",
    "\n",
    "gs_hindex.set_title('Top 5 Fakultas Berdasarkan Median Google Scholar H Index',fontweight=\"bold\", size=13)\n",
    "gs_hindex.set_xlabel('Median Google Scholar H Index', fontsize = 12)\n",
    "gs_hindex.set_ylabel('')\n",
    "\n",
    "gs_hindex.text(0,6.1,'Data Agustus 2022', fontstyle=\"normal\", fontweight=\"semibold\")\n",
    "\n",
    "\n",
    "plt.show()"
   ]
  },
  {
   "cell_type": "markdown",
   "id": "745e3831",
   "metadata": {},
   "source": [
    "### Top 5 Fakultas Berdasarkan Median Jumlah Sitasi Artikel pada Scopus dan Google Scholar"
   ]
  },
  {
   "cell_type": "code",
   "execution_count": null,
   "id": "1ec0c302",
   "metadata": {},
   "outputs": [],
   "source": [
    "fakul = df\n",
    "fakul.rename(columns = {'Fakultas':'fakul'}, inplace = True)\n",
    "\n",
    "# df1.prodi.nunique()\n",
    "\n",
    "df_fakul_scopus = fakul.groupby('fakul')[\"scopus_citation\"].median().reset_index()\n",
    "df_fakul_gs = fakul.groupby('fakul')[\"gs_citation\"].median().reset_index()\n",
    "# df_prodi = df_prodi.astype({'scopus_h_index': 'Int64', 'gs_h_index': 'Int64', 'sinta_3yr_score': 'Int64'})\n",
    "\n",
    "top_5fakul_scopus = df_fakul_scopus.sort_values(by=\"scopus_citation\", ascending=False).head(5)\n",
    "top_5fakul_gs = df_fakul_gs.sort_values(by=\"gs_citation\", ascending=False).head(5)\n",
    "\n",
    "# top_5fakul_scopus.head()\n",
    "# top_5fakul_gs.head()\n",
    "fig, axes = plt.subplots(2, 1, figsize=(10, 8))\n",
    "fig.tight_layout()\n",
    "fig.tight_layout(pad=5)\n",
    "\n",
    "fig.suptitle(\"Top 5 Fakultas Berdasarkan Median Jumlah Sitasi Artikel pada Scopus dan Google Scholar\"\n",
    "             , fontsize = 'large', fontweight = 'bold', y=1)\n",
    "\n",
    "scopus_hindex = sns.barplot(x='scopus_citation', y='fakul', data = top_5fakul_scopus, palette=\"deep\", ax=axes[0])\n",
    "gs_hindex = sns.barplot(x='gs_citation', y='fakul', data = top_5fakul_gs, palette=\"deep\", ax=axes[1])\n",
    "\n",
    "scopus_hindex.set_title('Top 5 Fakultas Berdasarkan Median Jumlah Sitasi Artikel pada Scopus',fontweight=\"bold\", size=13)\n",
    "scopus_hindex.set_xlabel('Median Jumlah Sitasi pada Scopus', fontsize = 12)\n",
    "scopus_hindex.set_ylabel('')\n",
    "\n",
    "\n",
    "gs_hindex.set_title('Top 5 Fakultas Berdasarkan Median Jumlah Sitasi Artikel pada Google Scholar',fontweight=\"bold\", size=13)\n",
    "gs_hindex.set_xlabel('Median Jumlah Sitasi pada Google Scholar', fontsize = 12)\n",
    "gs_hindex.set_ylabel('')\n",
    "\n",
    "gs_hindex.text(0,6.1,'Data Agustus 2022', fontstyle=\"normal\", fontweight=\"semibold\")\n",
    "\n",
    "\n",
    "plt.show()"
   ]
  },
  {
   "cell_type": "markdown",
   "id": "b6b5f164",
   "metadata": {},
   "source": [
    "### Top 5 Program Studi Berdasarkan Median Scopus H Index dan Google Scholar H Index"
   ]
  },
  {
   "cell_type": "code",
   "execution_count": null,
   "id": "a2ca1ba4",
   "metadata": {
    "scrolled": true
   },
   "outputs": [],
   "source": [
    "prodi = df\n",
    "prodi.rename(columns = {'Nama Prodi':'prodi'}, inplace = True)\n",
    "\n",
    "# df1.prodi.nunique()\n",
    "\n",
    "df_prodi_scopus = prodi.groupby('prodi')[\"scopus_h_index\"].median().reset_index()\n",
    "df_prodi_gs = prodi.groupby('prodi')[\"gs_h_index\"].median().reset_index()\n",
    "# df_prodi = df_prodi.astype({'scopus_h_index': 'Int64', 'gs_h_index': 'Int64', 'sinta_3yr_score': 'Int64'})\n",
    "\n",
    "top_5prodi_scopus = df_prodi_scopus.sort_values(by=\"scopus_h_index\", ascending=False).head(5)\n",
    "top_5prodi_gs = df_prodi_gs.sort_values(by=\"gs_h_index\", ascending=False).head(5)\n",
    "\n",
    "# top_5prodi_scopus.head(5)\n",
    "# top_5prodi_gs.head(5)\n",
    "\n",
    "fig, axes = plt.subplots(2, 1, figsize=(10, 8))\n",
    "fig.tight_layout()\n",
    "fig.tight_layout(pad=5)\n",
    "\n",
    "fig.suptitle(\"Top 5 Program Studi Berdasarkan Median Scopus H Index dan Google Scholar H Index\"\n",
    "             , fontsize = 'large', fontweight = 'bold', y=1)\n",
    "\n",
    "scopus_hindex = sns.barplot(x='scopus_h_index', y='prodi', data = top_5prodi_scopus, palette=\"deep\", ax=axes[0])\n",
    "gs_hindex = sns.barplot(x='gs_h_index', y='prodi', data = top_5prodi_gs, palette=\"deep\", ax=axes[1])\n",
    "\n",
    "scopus_hindex.set_title('Top 5 Program Studi Berdasarkan Median Scopus H Index',fontweight=\"bold\", size=13)\n",
    "scopus_hindex.set_xlabel('Median Scopus H Index', fontsize = 12)\n",
    "scopus_hindex.set_ylabel('')\n",
    "\n",
    "\n",
    "gs_hindex.set_title('Top 5 Program Studi Berdasarkan Median Google Scholar H Index',fontweight=\"bold\", size=13)\n",
    "gs_hindex.set_xlabel('Median Google Scholar H Index', fontsize = 12)\n",
    "gs_hindex.set_ylabel('')\n",
    "\n",
    "gs_hindex.text(0,6.1,'Data Agustus 2022', fontstyle=\"normal\", fontweight=\"semibold\")\n",
    "\n",
    "\n",
    "plt.show()"
   ]
  },
  {
   "cell_type": "markdown",
   "id": "72d7d86c",
   "metadata": {},
   "source": [
    "### Top 5 Dosen Berdasarkan Scopus H Index, Google Scholar H Index, Jumlah Artikel Scopus dan Google Scholar"
   ]
  },
  {
   "cell_type": "code",
   "execution_count": null,
   "id": "a75e1e22",
   "metadata": {
    "scrolled": true
   },
   "outputs": [],
   "source": [
    "df_1 = df[df[\"nama\"].str.contains(\"HANA RUWAIDAH\") == False]\n",
    "top_scopus_hindex = df_1.sort_values(by=\"scopus_h_index\", ascending=False).head(5)\n",
    "top_gs_hindex = df_1.sort_values(by=\"gs_h_index\", ascending=False).head(5)\n",
    "top_scopus_article = df_1.sort_values(by=\"scopus_article\", ascending=False).head(5)\n",
    "top_gs_article = df_1.sort_values(by=\"gs_article\", ascending=False).head(5)\n",
    "\n",
    "fig, axes = plt.subplots(4, 1, figsize=(10, 12))\n",
    "fig.tight_layout()\n",
    "fig.tight_layout(pad=5)\n",
    "\n",
    "fig.suptitle(\"Top 5 Dosen Berdasarkan Scopus H Index, Google Scholar H Index, Jumlah Artikel Scopus dan Jumlah Artikel Google Scholar\"\n",
    "             , fontsize = 'large', fontweight = 'bold', y=1)\n",
    "\n",
    "scopus_hindex = sns.barplot(x='scopus_h_index', y='nama', data = top_scopus_hindex, palette=\"deep\", ax=axes[0])\n",
    "gs_hindex = sns.barplot(x='gs_h_index', y='nama', data = top_gs_hindex, palette=\"deep\", ax=axes[1])\n",
    "scopus_article = sns.barplot(x='scopus_article', y='nama', data = top_scopus_article, palette=\"deep\", ax=axes[2])\n",
    "gs_article = sns.barplot(x='gs_article', y='nama', data = top_gs_article, palette=\"deep\", ax=axes[3])\n",
    "\n",
    "scopus_hindex.set_title('Top 5 Dosen Berdasarkan Scopus H Index',fontweight=\"bold\", size=13)\n",
    "scopus_hindex.set_xlabel('Scopus H Index', fontsize = 12)\n",
    "scopus_hindex.set_ylabel('')\n",
    "\n",
    "\n",
    "gs_hindex.set_title('Top 5 Dosen Berdasarkan Google Scholar Index',fontweight=\"bold\", size=13)\n",
    "gs_hindex.set_xlabel('Google Scholar H Index', fontsize = 12)\n",
    "gs_hindex.set_ylabel('')\n",
    "\n",
    "\n",
    "scopus_article.set_title('Top 5 Dosen Berdasarkan Jumlah Artikel Scopus',fontweight=\"bold\", size=13)\n",
    "scopus_article.set_xlabel('Jumlah Artikel Scopus', fontsize = 12)\n",
    "scopus_article.set_ylabel('')\n",
    "\n",
    "gs_article.set_title('Top 5 Dosen Berdasarkan Jumlah Artikel Google Scholar',fontweight=\"bold\", size=13)\n",
    "gs_article.set_xlabel('Jumlah Artikel Google Scholar', fontsize = 12)\n",
    "gs_article.set_ylabel('')\n",
    "\n",
    "gs_article.text(0,7.1,'Data Agustus 2022', fontstyle=\"normal\", fontweight=\"semibold\")"
   ]
  },
  {
   "cell_type": "markdown",
   "id": "3bdd20fb",
   "metadata": {},
   "source": [
    "### Top 5 Dosen Muda Berdasarkan Scopus H Index, Google Scholar H Index, Jumlah Artikel Scopus dan Google Scholar"
   ]
  },
  {
   "cell_type": "code",
   "execution_count": null,
   "id": "f6de646f",
   "metadata": {
    "scrolled": true
   },
   "outputs": [],
   "source": [
    "dosen_muda = df[df[\"Usia\"] <= 30]\n",
    "\n",
    "top_scopus_hindex = dosen_muda.sort_values(by=\"scopus_h_index\", ascending=False).head(5)\n",
    "top_gs_hindex = dosen_muda.sort_values(by=\"gs_h_index\", ascending=False).head(5)\n",
    "top_scopus_article = dosen_muda.sort_values(by=\"scopus_article\", ascending=False).head(5)\n",
    "top_gs_article = dosen_muda.sort_values(by=\"gs_article\", ascending=False).head(5)\n",
    "\n",
    "fig, axes = plt.subplots(4, 1, figsize=(10, 12))\n",
    "fig.tight_layout()\n",
    "fig.tight_layout(pad=5)\n",
    "\n",
    "fig.suptitle(\"Top 5 Dosen Muda Berdasarkan Scopus H Index, Google Scholar H Index, Jumlah Artikel Scopus dan Jumlah Artikel Google Scholar\"\n",
    "             , fontsize = 'large', fontweight = 'bold', y=1)\n",
    "\n",
    "scopus_hindex = sns.barplot(x='scopus_h_index', y='nama', data = top_scopus_hindex, palette=\"deep\", ax=axes[0])\n",
    "gs_hindex = sns.barplot(x='gs_h_index', y='nama', data = top_gs_hindex, palette=\"deep\", ax=axes[1])\n",
    "scopus_article = sns.barplot(x='scopus_article', y='nama', data = top_scopus_article, palette=\"deep\", ax=axes[2])\n",
    "gs_article = sns.barplot(x='gs_article', y='nama', data = top_gs_article, palette=\"deep\", ax=axes[3])\n",
    "\n",
    "scopus_hindex.set_title('Top 5 Dosen Muda Berdasarkan Scopus H Index',fontweight=\"bold\", size=13)\n",
    "scopus_hindex.set_xlabel('Scopus H Index', fontsize = 12)\n",
    "scopus_hindex.set_ylabel('')\n",
    "\n",
    "\n",
    "gs_hindex.set_title('Top 5 Dosen Muda Berdasarkan Google Scholar Index',fontweight=\"bold\", size=13)\n",
    "gs_hindex.set_xlabel('Google Scholar H Index', fontsize = 12)\n",
    "gs_hindex.set_ylabel('')\n",
    "\n",
    "\n",
    "scopus_article.set_title('Top 5 Dosen Muda Berdasarkan Jumlah Artikel Scopus',fontweight=\"bold\", size=13)\n",
    "scopus_article.set_xlabel('Jumlah Artikel Scopus', fontsize = 12)\n",
    "scopus_article.set_ylabel('')\n",
    "\n",
    "gs_article.set_title('Top 5 Dosen Muda Berdasarkan Jumlah Artikel Google Scholar',fontweight=\"bold\", size=13)\n",
    "gs_article.set_xlabel('Jumlah Artikel Google Scholar', fontsize = 12)\n",
    "gs_article.set_ylabel('')\n",
    "\n",
    "gs_article.text(0.1,7.5,'Dosen Muda : dosen yang saat ini berusia kurang dari atau sama dengan 30 tahun', fontstyle=\"normal\")\n",
    "gs_article.text(0.1,8.1,'Data Agustus 2022', fontstyle=\"normal\", fontweight=\"semibold\")"
   ]
  },
  {
   "cell_type": "code",
   "execution_count": null,
   "id": "196c8afd",
   "metadata": {
    "scrolled": true
   },
   "outputs": [],
   "source": [
    "# df_D3 = df[df[\"Nama Prodi\"].str.contains(\"D3\") == True]\n",
    "# df_S1 = df[df[\"Nama Prodi\"].str.contains(\"S1\") == True]\n",
    "# df_S2 = df[df[\"Nama Prodi\"].str.contains(\"S2\") == True]\n",
    "# df_S3 = df[df[\"Nama Prodi\"].str.contains(\"S3\") == True]\n",
    "\n",
    "# fig, axes = plt.subplots(4, 1, figsize=(10, 12))\n",
    "# fig.tight_layout()\n",
    "# fig.tight_layout(pad=3)\n",
    "\n",
    "# fig.suptitle(\"Top 5 Program Studi D3, S1, S2, dan S3 Berdasarkan Jumlah Dosen\" , fontsize = 'large', fontweight = 'bold', y=1)\n",
    "\n",
    "# d3 = sns.countplot(y='Nama Prodi', data = df_D3, order = df_D3['Nama Prodi'].value_counts().index[0:5], \n",
    "#               palette=\"deep\", ax=axes[0])\n",
    "\n",
    "# s1 = sns.countplot(y='Nama Prodi', data = df_S1, order = df_S1['Nama Prodi'].value_counts().index[0:5], \n",
    "#               palette=\"deep\", ax=axes[1])\n",
    "\n",
    "# s2 = sns.countplot(y='Nama Prodi', data = df_S2, order = df_S2['Nama Prodi'].value_counts().index[0:5], \n",
    "#               palette=\"deep\", ax=axes[2])\n",
    "\n",
    "\n",
    "# s3 = sns.countplot(y='Nama Prodi', data = df_S3, order = df_S3['Nama Prodi'].value_counts().index[0:5], \n",
    "#               palette=\"deep\", ax=axes[3])\n",
    "# d3.set_title('Program Studi D3',fontweight=\"bold\", size=13)\n",
    "# d3.set_xlabel('Jumlah Dosen', fontsize = 12)\n",
    "# d3.set_ylabel('')\n",
    "\n",
    "\n",
    "# s1.set_title('Program Studi S1',fontweight=\"bold\", size=13)\n",
    "# s1.set_xlabel('Jumlah Dosen', fontsize = 12)\n",
    "# s1.set_ylabel('')\n",
    "\n",
    "\n",
    "# s2.set_title('Program Studi S2',fontweight=\"bold\", size=13)\n",
    "# s2.set_xlabel('Jumlah Dosen', fontsize = 12)\n",
    "# s2.set_ylabel('')\n",
    "\n",
    "# s3.set_title('Program Studi S3',fontweight=\"bold\", size=13)\n",
    "# s3.set_xlabel('Jumlah Dosen', fontsize = 12)\n",
    "# s3.set_ylabel('')"
   ]
  }
 ],
 "metadata": {
  "kernelspec": {
   "display_name": "Python 3 (ipykernel)",
   "language": "python",
   "name": "python3"
  },
  "language_info": {
   "codemirror_mode": {
    "name": "ipython",
    "version": 3
   },
   "file_extension": ".py",
   "mimetype": "text/x-python",
   "name": "python",
   "nbconvert_exporter": "python",
   "pygments_lexer": "ipython3",
   "version": "3.9.12"
  }
 },
 "nbformat": 4,
 "nbformat_minor": 5
}
