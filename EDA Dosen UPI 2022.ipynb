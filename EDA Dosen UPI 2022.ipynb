{
 "cells": [
  {
   "cell_type": "markdown",
   "id": "8038a899",
   "metadata": {},
   "source": [
    "# Exploratory Data Analysis \n",
    "### Dataset : https://github.com/crypter7054/Scraper-SINTA-UPI-2022 \n",
    "### Keterangan Atribut : \n",
    "- **name** = nama dosen \n",
    "- **sinta_id**  = id dosen pada website SINTA \n",
    "- **dept** = program studi \n",
    "- **sinta_score** = skor keseluruhan SINTA \n",
    "- **sinta_3yr_score** = skor SINTA dalam 3 tahun terakhir \n",
    "- **affil_score** = skor keseluruhan afiliasi \n",
    "- **affil_3yr_score** = skor afiliasi dalam 3 tahun terakhir \n",
    "- **scopus_h_index** = indeks untuk mengukur produktivitas berdasarkan jumlah publikasi dan sitasi dosen pada Scopus \n",
    "- **gs_h_index** = indeks untuk mengukur produktivitas berdasarkan jumlah publikasi dan sitasi dosen pada Google Scholar \n",
    "- **wos_h_index** = indeks untuk mengukur produktivitas berdasarkan jumlah publikasi dan sitasi dosen pada Web of Science \n",
    "- **scopus_i10_index** = skor dosen dalam publikasi artikel yang disitasi minimal oleh 10 artikel lain pada Scopus \n",
    "- **gs_i10_index** = skor dosen dalam publikasi artikel yang disitasi minimal oleh 10 artikel lain pada Google Scholar \n",
    "- **wos_i10_index** = skor dosen dalam publikasi artikel yang disitasi minimal oleh 10 artikel lain pada Web of Science \n",
    "- **scopus_g_index** = indeks untuk mengukur produktivitas berdasarkan distribusi sitasi dari publikasi dosen pada Scopus \n",
    "- **gs_g_index** = indeks untuk mengukur produktivitas berdasarkan distribusi sitasi dari publikasi dosen pada Google Scholar \n",
    "- **wos_g_index** = indeks untuk mengukur produktivitas berdasarkan distribusi sitasi dari publikasi dosen pada Web of Science\n",
    "- **scopus_article** = jumlah publikasi artikel dosen pada Scopus \n",
    "- **scopus_citation** = jumlah sitasi pada publikasi dosen pada Scopus \n",
    "- **scopus_cited_document** = jumlah publikasi lain yang disitasi oleh dosen pada Scopus \n",
    "- **gs_article** = jumlah publikasi artikel dosen pada Google Scholar \n",
    "- **gs_citation** = jumlah sitasi pada publikasi dosen pada Google Scholar \n",
    "- **gs_cited_document** = jumlah publikasi lain yang disitasi oleh dosen pada Google Scholar \n",
    "- **wos_article** = jumlah publikasi artikel dosen pada Web of Science \n",
    "- **wos_citation** = jumlah sitasi pada publikasi dosen pada Web of Science \n",
    "- **wos_cited_document** = jumlah publikasi lain yang disitasi oleh dosen pada Web of Science"
   ]
  },
  {
   "cell_type": "markdown",
   "id": "d767ba2c",
   "metadata": {},
   "source": [
    "## Import Library"
   ]
  },
  {
   "cell_type": "code",
   "execution_count": 1,
   "id": "50e65dc6",
   "metadata": {},
   "outputs": [],
   "source": [
    "%matplotlib inline\n",
    "import numpy as np                  # library untuk matriks\n",
    "import pandas as pd                 # library untuk manipulasi dan analisis data\n",
    "import matplotlib.pyplot as plt     # library untuk visualisasi plot\n",
    "import seaborn as sns               # library untuk visualisasi plot"
   ]
  },
  {
   "cell_type": "markdown",
   "id": "b8088b51",
   "metadata": {},
   "source": [
    "## Read Data"
   ]
  },
  {
   "cell_type": "code",
   "execution_count": 2,
   "id": "fe9cfc56",
   "metadata": {
    "scrolled": true
   },
   "outputs": [
    {
     "data": {
      "text/html": [
       "<div>\n",
       "<style scoped>\n",
       "    .dataframe tbody tr th:only-of-type {\n",
       "        vertical-align: middle;\n",
       "    }\n",
       "\n",
       "    .dataframe tbody tr th {\n",
       "        vertical-align: top;\n",
       "    }\n",
       "\n",
       "    .dataframe thead th {\n",
       "        text-align: right;\n",
       "    }\n",
       "</style>\n",
       "<table border=\"1\" class=\"dataframe\">\n",
       "  <thead>\n",
       "    <tr style=\"text-align: right;\">\n",
       "      <th></th>\n",
       "      <th>name</th>\n",
       "      <th>sinta_id</th>\n",
       "      <th>dept</th>\n",
       "      <th>sinta_score</th>\n",
       "      <th>sinta_3yr_score</th>\n",
       "      <th>affil_score</th>\n",
       "      <th>affil_3yr_score</th>\n",
       "      <th>scopus_h_index</th>\n",
       "      <th>gs_h_index</th>\n",
       "      <th>wos_h_index</th>\n",
       "      <th>...</th>\n",
       "      <th>wos_g_index</th>\n",
       "      <th>scopus_article</th>\n",
       "      <th>scopus_citation</th>\n",
       "      <th>scopus_cited_document</th>\n",
       "      <th>gs_article</th>\n",
       "      <th>gs_citation</th>\n",
       "      <th>gs_cited_document</th>\n",
       "      <th>wos_article</th>\n",
       "      <th>wos_citation</th>\n",
       "      <th>wos_cited_document</th>\n",
       "    </tr>\n",
       "  </thead>\n",
       "  <tbody>\n",
       "    <tr>\n",
       "      <th>0</th>\n",
       "      <td>AGUS RUSDIANA</td>\n",
       "      <td>5975690</td>\n",
       "      <td>S1 - Ilmu Keolahragaan</td>\n",
       "      <td>2.745</td>\n",
       "      <td>1.306</td>\n",
       "      <td>0</td>\n",
       "      <td>0</td>\n",
       "      <td>10</td>\n",
       "      <td>8</td>\n",
       "      <td>2.0</td>\n",
       "      <td>...</td>\n",
       "      <td>1.0</td>\n",
       "      <td>27</td>\n",
       "      <td>22</td>\n",
       "      <td>9</td>\n",
       "      <td>79</td>\n",
       "      <td>203</td>\n",
       "      <td>43</td>\n",
       "      <td>10</td>\n",
       "      <td>4</td>\n",
       "      <td>2</td>\n",
       "    </tr>\n",
       "    <tr>\n",
       "      <th>1</th>\n",
       "      <td>SITI FATIMAH</td>\n",
       "      <td>5978161</td>\n",
       "      <td>S2 - Pendidikan Matematika</td>\n",
       "      <td>1.531</td>\n",
       "      <td>855.000</td>\n",
       "      <td>0</td>\n",
       "      <td>0</td>\n",
       "      <td>7</td>\n",
       "      <td>11</td>\n",
       "      <td>NaN</td>\n",
       "      <td>...</td>\n",
       "      <td>NaN</td>\n",
       "      <td>43</td>\n",
       "      <td>105</td>\n",
       "      <td>20</td>\n",
       "      <td>71</td>\n",
       "      <td>522</td>\n",
       "      <td>43</td>\n",
       "      <td>0</td>\n",
       "      <td>0</td>\n",
       "      <td>0</td>\n",
       "    </tr>\n",
       "    <tr>\n",
       "      <th>2</th>\n",
       "      <td>LALA SEPTEM RIZA</td>\n",
       "      <td>5975668</td>\n",
       "      <td>S2 - Pendidikan Ilmu Komputer</td>\n",
       "      <td>2.743</td>\n",
       "      <td>915.000</td>\n",
       "      <td>0</td>\n",
       "      <td>0</td>\n",
       "      <td>12</td>\n",
       "      <td>15</td>\n",
       "      <td>7.0</td>\n",
       "      <td>...</td>\n",
       "      <td>1.0</td>\n",
       "      <td>76</td>\n",
       "      <td>577</td>\n",
       "      <td>52</td>\n",
       "      <td>175</td>\n",
       "      <td>964</td>\n",
       "      <td>82</td>\n",
       "      <td>45</td>\n",
       "      <td>312</td>\n",
       "      <td>30</td>\n",
       "    </tr>\n",
       "    <tr>\n",
       "      <th>3</th>\n",
       "      <td>YAYANG FURI FURNAMASARI</td>\n",
       "      <td>6732204</td>\n",
       "      <td>S1 - PGSD Kampus Cibiru</td>\n",
       "      <td>1.057</td>\n",
       "      <td>921.000</td>\n",
       "      <td>0</td>\n",
       "      <td>0</td>\n",
       "      <td>0</td>\n",
       "      <td>6</td>\n",
       "      <td>0.0</td>\n",
       "      <td>...</td>\n",
       "      <td>0.0</td>\n",
       "      <td>1</td>\n",
       "      <td>0</td>\n",
       "      <td>0</td>\n",
       "      <td>139</td>\n",
       "      <td>373</td>\n",
       "      <td>74</td>\n",
       "      <td>0</td>\n",
       "      <td>0</td>\n",
       "      <td>0</td>\n",
       "    </tr>\n",
       "    <tr>\n",
       "      <th>4</th>\n",
       "      <td>DEDI ROHENDI</td>\n",
       "      <td>5978259</td>\n",
       "      <td>S1 - Pendidikan Teknik Otomotif</td>\n",
       "      <td>1.009</td>\n",
       "      <td>425.000</td>\n",
       "      <td>0</td>\n",
       "      <td>0</td>\n",
       "      <td>5</td>\n",
       "      <td>11</td>\n",
       "      <td>2.0</td>\n",
       "      <td>...</td>\n",
       "      <td>1.0</td>\n",
       "      <td>22</td>\n",
       "      <td>75</td>\n",
       "      <td>20</td>\n",
       "      <td>99</td>\n",
       "      <td>591</td>\n",
       "      <td>53</td>\n",
       "      <td>21</td>\n",
       "      <td>24</td>\n",
       "      <td>15</td>\n",
       "    </tr>\n",
       "  </tbody>\n",
       "</table>\n",
       "<p>5 rows × 25 columns</p>\n",
       "</div>"
      ],
      "text/plain": [
       "                      name  sinta_id                             dept  \\\n",
       "0            AGUS RUSDIANA   5975690           S1 - Ilmu Keolahragaan   \n",
       "1             SITI FATIMAH   5978161       S2 - Pendidikan Matematika   \n",
       "2         LALA SEPTEM RIZA   5975668    S2 - Pendidikan Ilmu Komputer   \n",
       "3  YAYANG FURI FURNAMASARI   6732204          S1 - PGSD Kampus Cibiru   \n",
       "4             DEDI ROHENDI   5978259  S1 - Pendidikan Teknik Otomotif   \n",
       "\n",
       "   sinta_score  sinta_3yr_score  affil_score  affil_3yr_score  scopus_h_index  \\\n",
       "0        2.745            1.306            0                0              10   \n",
       "1        1.531          855.000            0                0               7   \n",
       "2        2.743          915.000            0                0              12   \n",
       "3        1.057          921.000            0                0               0   \n",
       "4        1.009          425.000            0                0               5   \n",
       "\n",
       "   gs_h_index  wos_h_index  ...  wos_g_index  scopus_article  scopus_citation  \\\n",
       "0           8          2.0  ...          1.0              27               22   \n",
       "1          11          NaN  ...          NaN              43              105   \n",
       "2          15          7.0  ...          1.0              76              577   \n",
       "3           6          0.0  ...          0.0               1                0   \n",
       "4          11          2.0  ...          1.0              22               75   \n",
       "\n",
       "   scopus_cited_document  gs_article  gs_citation  gs_cited_document  \\\n",
       "0                      9          79          203                 43   \n",
       "1                     20          71          522                 43   \n",
       "2                     52         175          964                 82   \n",
       "3                      0         139          373                 74   \n",
       "4                     20          99          591                 53   \n",
       "\n",
       "   wos_article  wos_citation  wos_cited_document  \n",
       "0           10             4                   2  \n",
       "1            0             0                   0  \n",
       "2           45           312                  30  \n",
       "3            0             0                   0  \n",
       "4           21            24                  15  \n",
       "\n",
       "[5 rows x 25 columns]"
      ]
     },
     "execution_count": 2,
     "metadata": {},
     "output_type": "execute_result"
    }
   ],
   "source": [
    "df = pd.read_csv(\"C:\\\\Users\\\\LENOVO\\\\Scraper-SINTA-UPI-2022\\\\EDA data\\\\dosen.csv\")    \n",
    "df.head(5)                                                              "
   ]
  },
  {
   "cell_type": "markdown",
   "id": "563e3186",
   "metadata": {},
   "source": [
    "## Praproses"
   ]
  },
  {
   "cell_type": "code",
   "execution_count": 3,
   "id": "f84a8243",
   "metadata": {},
   "outputs": [
    {
     "name": "stdout",
     "output_type": "stream",
     "text": [
      "<class 'pandas.core.frame.DataFrame'>\n",
      "RangeIndex: 1749 entries, 0 to 1748\n",
      "Data columns (total 25 columns):\n",
      " #   Column                 Non-Null Count  Dtype  \n",
      "---  ------                 --------------  -----  \n",
      " 0   name                   1749 non-null   object \n",
      " 1   sinta_id               1749 non-null   int64  \n",
      " 2   dept                   1749 non-null   object \n",
      " 3   sinta_score            1749 non-null   float64\n",
      " 4   sinta_3yr_score        1749 non-null   float64\n",
      " 5   affil_score            1749 non-null   int64  \n",
      " 6   affil_3yr_score        1749 non-null   int64  \n",
      " 7   scopus_h_index         1749 non-null   int64  \n",
      " 8   gs_h_index             1749 non-null   int64  \n",
      " 9   wos_h_index            749 non-null    float64\n",
      " 10  scopus_i10_index       1749 non-null   int64  \n",
      " 11  gs_i10_index           1749 non-null   int64  \n",
      " 12  wos_i10_index          749 non-null    float64\n",
      " 13  scopus_g_index         1749 non-null   int64  \n",
      " 14  gs_g_index             1749 non-null   int64  \n",
      " 15  wos_g_index            749 non-null    float64\n",
      " 16  scopus_article         1749 non-null   int64  \n",
      " 17  scopus_citation        1749 non-null   int64  \n",
      " 18  scopus_cited_document  1749 non-null   int64  \n",
      " 19  gs_article             1749 non-null   int64  \n",
      " 20  gs_citation            1749 non-null   int64  \n",
      " 21  gs_cited_document      1749 non-null   int64  \n",
      " 22  wos_article            1749 non-null   int64  \n",
      " 23  wos_citation           1749 non-null   int64  \n",
      " 24  wos_cited_document     1749 non-null   int64  \n",
      "dtypes: float64(5), int64(18), object(2)\n",
      "memory usage: 341.7+ KB\n"
     ]
    }
   ],
   "source": [
    "df.info()"
   ]
  },
  {
   "cell_type": "code",
   "execution_count": 4,
   "id": "83b4f7a2",
   "metadata": {},
   "outputs": [
    {
     "data": {
      "text/plain": [
       "name                        0\n",
       "sinta_id                    0\n",
       "dept                        0\n",
       "sinta_score                 0\n",
       "sinta_3yr_score             0\n",
       "affil_score                 0\n",
       "affil_3yr_score             0\n",
       "scopus_h_index              0\n",
       "gs_h_index                  0\n",
       "wos_h_index              1000\n",
       "scopus_i10_index            0\n",
       "gs_i10_index                0\n",
       "wos_i10_index            1000\n",
       "scopus_g_index              0\n",
       "gs_g_index                  0\n",
       "wos_g_index              1000\n",
       "scopus_article              0\n",
       "scopus_citation             0\n",
       "scopus_cited_document       0\n",
       "gs_article                  0\n",
       "gs_citation                 0\n",
       "gs_cited_document           0\n",
       "wos_article                 0\n",
       "wos_citation                0\n",
       "wos_cited_document          0\n",
       "dtype: int64"
      ]
     },
     "execution_count": 4,
     "metadata": {},
     "output_type": "execute_result"
    }
   ],
   "source": [
    "df.isnull().sum()"
   ]
  },
  {
   "cell_type": "markdown",
   "id": "09da817d",
   "metadata": {},
   "source": [
    "## EDA"
   ]
  },
  {
   "cell_type": "markdown",
   "id": "29d639bd",
   "metadata": {},
   "source": [
    "### SINTA Score Distribution"
   ]
  },
  {
   "cell_type": "code",
   "execution_count": 5,
   "id": "0b81094d",
   "metadata": {
    "scrolled": true
   },
   "outputs": [
    {
     "data": {
      "text/plain": [
       "<AxesSubplot:xlabel='sinta_score'>"
      ]
     },
     "execution_count": 5,
     "metadata": {},
     "output_type": "execute_result"
    },
    {
     "data": {
      "image/png": "[encoded data removed]",
      "text/plain": [
       "<Figure size 432x288 with 1 Axes>"
      ]
     },
     "metadata": {
      "needs_background": "light"
     },
     "output_type": "display_data"
    }
   ],
   "source": [
    "sns.boxplot(x=\"sinta_score\",data=df)  "
   ]
  },
  {
   "cell_type": "code",
   "execution_count": 6,
   "id": "59d937db",
   "metadata": {},
   "outputs": [
    {
     "data": {
      "text/plain": [
       "count    1749.000000\n",
       "mean      192.000528\n",
       "std       223.744666\n",
       "min         0.000000\n",
       "25%        25.000000\n",
       "50%       103.000000\n",
       "75%       289.000000\n",
       "max       995.000000\n",
       "Name: sinta_score, dtype: float64"
      ]
     },
     "execution_count": 6,
     "metadata": {},
     "output_type": "execute_result"
    }
   ],
   "source": [
    "df['sinta_score'].describe()"
   ]
  },
  {
   "cell_type": "markdown",
   "id": "8dd000f6",
   "metadata": {},
   "source": [
    "### SINTA 3yr Score Distribution"
   ]
  },
  {
   "cell_type": "code",
   "execution_count": 7,
   "id": "19792e5b",
   "metadata": {},
   "outputs": [
    {
     "data": {
      "text/plain": [
       "<AxesSubplot:xlabel='sinta_3yr_score'>"
      ]
     },
     "execution_count": 7,
     "metadata": {},
     "output_type": "execute_result"
    },
    {
     "data": {
      "image/png": "[encoded data removed]",
      "text/plain": [
       "<Figure size 432x288 with 1 Axes>"
      ]
     },
     "metadata": {
      "needs_background": "light"
     },
     "output_type": "display_data"
    }
   ],
   "source": [
    "sns.boxplot(x=\"sinta_3yr_score\",data=df)  "
   ]
  },
  {
   "cell_type": "markdown",
   "id": "2d59907d",
   "metadata": {},
   "source": [
    "### Comparison of SINTA Score Distribution"
   ]
  },
  {
   "cell_type": "code",
   "execution_count": 8,
   "id": "34bf50cb",
   "metadata": {},
   "outputs": [
    {
     "data": {
      "text/plain": [
       "<AxesSubplot:>"
      ]
     },
     "execution_count": 8,
     "metadata": {},
     "output_type": "execute_result"
    },
    {
     "data": {
      "image/png": "[encoded data removed]",
      "text/plain": [
       "<Figure size 432x288 with 1 Axes>"
      ]
     },
     "metadata": {
      "needs_background": "light"
     },
     "output_type": "display_data"
    }
   ],
   "source": [
    "sns.boxplot(data=df, order=[\"sinta_score\", \"sinta_3yr_score\"])"
   ]
  },
  {
   "cell_type": "markdown",
   "id": "764b7780",
   "metadata": {},
   "source": [
    "### Scopus H Index Distribution"
   ]
  },
  {
   "cell_type": "code",
   "execution_count": 9,
   "id": "32d2c991",
   "metadata": {},
   "outputs": [
    {
     "data": {
      "text/plain": [
       "<AxesSubplot:xlabel='scopus_h_index'>"
      ]
     },
     "execution_count": 9,
     "metadata": {},
     "output_type": "execute_result"
    },
    {
     "data": {
      "image/png": "[encoded data removed]",
      "text/plain": [
       "<Figure size 432x288 with 1 Axes>"
      ]
     },
     "metadata": {
      "needs_background": "light"
     },
     "output_type": "display_data"
    }
   ],
   "source": [
    "sns.boxplot(x=\"scopus_h_index\",data=df)  "
   ]
  },
  {
   "cell_type": "markdown",
   "id": "b074711e",
   "metadata": {},
   "source": [
    "### GS H Index Distribution"
   ]
  },
  {
   "cell_type": "code",
   "execution_count": 10,
   "id": "17be5f16",
   "metadata": {},
   "outputs": [
    {
     "data": {
      "text/plain": [
       "<AxesSubplot:xlabel='gs_h_index'>"
      ]
     },
     "execution_count": 10,
     "metadata": {},
     "output_type": "execute_result"
    },
    {
     "data": {
      "image/png": "[encoded data removed]",
      "text/plain": [
       "<Figure size 432x288 with 1 Axes>"
      ]
     },
     "metadata": {
      "needs_background": "light"
     },
     "output_type": "display_data"
    }
   ],
   "source": [
    "sns.boxplot(x=\"gs_h_index\",data=df)  "
   ]
  },
  {
   "cell_type": "markdown",
   "id": "7d07e349",
   "metadata": {},
   "source": [
    "### WOS H Index Distribution"
   ]
  },
  {
   "cell_type": "code",
   "execution_count": 11,
   "id": "b3bb1a57",
   "metadata": {},
   "outputs": [
    {
     "data": {
      "text/plain": [
       "<AxesSubplot:xlabel='wos_h_index'>"
      ]
     },
     "execution_count": 11,
     "metadata": {},
     "output_type": "execute_result"
    },
    {
     "data": {
      "image/png": "[encoded data removed]",
      "text/plain": [
       "<Figure size 432x288 with 1 Axes>"
      ]
     },
     "metadata": {
      "needs_background": "light"
     },
     "output_type": "display_data"
    }
   ],
   "source": [
    "sns.boxplot(x=\"wos_h_index\",data=df)  "
   ]
  },
  {
   "cell_type": "markdown",
   "id": "7fafef65",
   "metadata": {},
   "source": [
    "### Comparison of H Index Distribution"
   ]
  },
  {
   "cell_type": "code",
   "execution_count": 12,
   "id": "3bb50cd5",
   "metadata": {},
   "outputs": [
    {
     "data": {
      "text/plain": [
       "<AxesSubplot:>"
      ]
     },
     "execution_count": 12,
     "metadata": {},
     "output_type": "execute_result"
    },
    {
     "data": {
      "image/png": "[encoded data removed]",
      "text/plain": [
       "<Figure size 432x288 with 1 Axes>"
      ]
     },
     "metadata": {
      "needs_background": "light"
     },
     "output_type": "display_data"
    }
   ],
   "source": [
    "sns.boxplot(data=df, order=[\"scopus_h_index\", \"gs_h_index\", \"wos_h_index\"])"
   ]
  },
  {
   "cell_type": "markdown",
   "id": "f216f2fd",
   "metadata": {},
   "source": [
    "### Scopus i10 Index Distribution"
   ]
  },
  {
   "cell_type": "code",
   "execution_count": 13,
   "id": "5742e087",
   "metadata": {},
   "outputs": [
    {
     "data": {
      "text/plain": [
       "<AxesSubplot:xlabel='scopus_i10_index'>"
      ]
     },
     "execution_count": 13,
     "metadata": {},
     "output_type": "execute_result"
    },
    {
     "data": {
      "image/png": "[encoded data removed]",
      "text/plain": [
       "<Figure size 432x288 with 1 Axes>"
      ]
     },
     "metadata": {
      "needs_background": "light"
     },
     "output_type": "display_data"
    }
   ],
   "source": [
    "sns.boxplot(x=\"scopus_i10_index\",data=df)  "
   ]
  },
  {
   "cell_type": "markdown",
   "id": "c36c8b81",
   "metadata": {},
   "source": [
    "### GS i10 Index Distribution"
   ]
  },
  {
   "cell_type": "code",
   "execution_count": 14,
   "id": "42ea971a",
   "metadata": {
    "scrolled": true
   },
   "outputs": [
    {
     "data": {
      "text/plain": [
       "<AxesSubplot:xlabel='gs_i10_index'>"
      ]
     },
     "execution_count": 14,
     "metadata": {},
     "output_type": "execute_result"
    },
    {
     "data": {
      "image/png": "[encoded data removed]",
      "text/plain": [
       "<Figure size 432x288 with 1 Axes>"
      ]
     },
     "metadata": {
      "needs_background": "light"
     },
     "output_type": "display_data"
    }
   ],
   "source": [
    "sns.boxplot(x=\"gs_i10_index\",data=df)  "
   ]
  },
  {
   "cell_type": "markdown",
   "id": "18bdcfc8",
   "metadata": {},
   "source": [
    "### WOS i10 Index Distribution"
   ]
  },
  {
   "cell_type": "code",
   "execution_count": 15,
   "id": "fd7ce45e",
   "metadata": {
    "scrolled": true
   },
   "outputs": [
    {
     "data": {
      "text/plain": [
       "<AxesSubplot:xlabel='wos_i10_index'>"
      ]
     },
     "execution_count": 15,
     "metadata": {},
     "output_type": "execute_result"
    },
    {
     "data": {
      "image/png": "[encoded data removed]",
      "text/plain": [
       "<Figure size 432x288 with 1 Axes>"
      ]
     },
     "metadata": {
      "needs_background": "light"
     },
     "output_type": "display_data"
    }
   ],
   "source": [
    "sns.boxplot(x=\"wos_i10_index\",data=df)  "
   ]
  },
  {
   "cell_type": "markdown",
   "id": "5f827db3",
   "metadata": {},
   "source": [
    "### Comparison of i10 Index Distribution"
   ]
  },
  {
   "cell_type": "code",
   "execution_count": 16,
   "id": "229a869a",
   "metadata": {
    "scrolled": true
   },
   "outputs": [
    {
     "data": {
      "text/plain": [
       "<AxesSubplot:>"
      ]
     },
     "execution_count": 16,
     "metadata": {},
     "output_type": "execute_result"
    },
    {
     "data": {
      "image/png": "[encoded data removed]",
      "text/plain": [
       "<Figure size 432x288 with 1 Axes>"
      ]
     },
     "metadata": {
      "needs_background": "light"
     },
     "output_type": "display_data"
    }
   ],
   "source": [
    "sns.boxplot(data=df, order=[\"scopus_i10_index\", \"gs_i10_index\", \"wos_i10_index\"])"
   ]
  },
  {
   "cell_type": "markdown",
   "id": "5bb87aee",
   "metadata": {},
   "source": [
    "### Scopus G Index Distribution"
   ]
  },
  {
   "cell_type": "code",
   "execution_count": 17,
   "id": "cf066279",
   "metadata": {},
   "outputs": [
    {
     "data": {
      "text/plain": [
       "<AxesSubplot:xlabel='scopus_g_index'>"
      ]
     },
     "execution_count": 17,
     "metadata": {},
     "output_type": "execute_result"
    },
    {
     "data": {
      "image/png": "[encoded data removed]",
      "text/plain": [
       "<Figure size 432x288 with 1 Axes>"
      ]
     },
     "metadata": {
      "needs_background": "light"
     },
     "output_type": "display_data"
    }
   ],
   "source": [
    "sns.boxplot(x=\"scopus_g_index\",data=df)  "
   ]
  },
  {
   "cell_type": "markdown",
   "id": "22d9db16",
   "metadata": {},
   "source": [
    "### GS G Index Distribution"
   ]
  },
  {
   "cell_type": "code",
   "execution_count": 18,
   "id": "9e4ba15c",
   "metadata": {},
   "outputs": [
    {
     "data": {
      "text/plain": [
       "<AxesSubplot:xlabel='gs_g_index'>"
      ]
     },
     "execution_count": 18,
     "metadata": {},
     "output_type": "execute_result"
    },
    {
     "data": {
      "image/png": "[encoded data removed]",
      "text/plain": [
       "<Figure size 432x288 with 1 Axes>"
      ]
     },
     "metadata": {
      "needs_background": "light"
     },
     "output_type": "display_data"
    }
   ],
   "source": [
    "sns.boxplot(x=\"gs_g_index\",data=df)  "
   ]
  },
  {
   "cell_type": "markdown",
   "id": "1e5514e6",
   "metadata": {},
   "source": [
    "### WOS G Index Distribution"
   ]
  },
  {
   "cell_type": "code",
   "execution_count": 19,
   "id": "3950a0c3",
   "metadata": {},
   "outputs": [
    {
     "data": {
      "text/plain": [
       "<AxesSubplot:xlabel='wos_g_index'>"
      ]
     },
     "execution_count": 19,
     "metadata": {},
     "output_type": "execute_result"
    },
    {
     "data": {
      "image/png": "[encoded data removed]",
      "text/plain": [
       "<Figure size 432x288 with 1 Axes>"
      ]
     },
     "metadata": {
      "needs_background": "light"
     },
     "output_type": "display_data"
    }
   ],
   "source": [
    "sns.boxplot(x=\"wos_g_index\",data=df)  "
   ]
  },
  {
   "cell_type": "markdown",
   "id": "792845db",
   "metadata": {},
   "source": [
    "### Comparison of G Index Distribution"
   ]
  },
  {
   "cell_type": "code",
   "execution_count": 20,
   "id": "cafede0d",
   "metadata": {
    "scrolled": true
   },
   "outputs": [
    {
     "data": {
      "text/plain": [
       "<AxesSubplot:>"
      ]
     },
     "execution_count": 20,
     "metadata": {},
     "output_type": "execute_result"
    },
    {
     "data": {
      "image/png": "[encoded data removed]",
      "text/plain": [
       "<Figure size 432x288 with 1 Axes>"
      ]
     },
     "metadata": {
      "needs_background": "light"
     },
     "output_type": "display_data"
    }
   ],
   "source": [
    "sns.boxplot(data=df, order=[\"scopus_g_index\", \"gs_g_index\", \"wos_g_index\"])"
   ]
  },
  {
   "cell_type": "markdown",
   "id": "39aff84b",
   "metadata": {},
   "source": [
    "### Scopus Article, Citation, and Cited Distribution"
   ]
  },
  {
   "cell_type": "code",
   "execution_count": 21,
   "id": "28d975b5",
   "metadata": {},
   "outputs": [
    {
     "data": {
      "text/plain": [
       "<AxesSubplot:>"
      ]
     },
     "execution_count": 21,
     "metadata": {},
     "output_type": "execute_result"
    },
    {
     "data": {
      "image/png": "[encoded data removed]",
      "text/plain": [
       "<Figure size 432x288 with 1 Axes>"
      ]
     },
     "metadata": {
      "needs_background": "light"
     },
     "output_type": "display_data"
    }
   ],
   "source": [
    "sns.boxplot(data=df, order=[\"scopus_article\", \"scopus_citation\", \"scopus_cited_document\"])"
   ]
  },
  {
   "cell_type": "markdown",
   "id": "0122ea81",
   "metadata": {},
   "source": [
    "### GS Article, Citation, and Cited Distribution"
   ]
  },
  {
   "cell_type": "code",
   "execution_count": 22,
   "id": "df55c955",
   "metadata": {
    "scrolled": true
   },
   "outputs": [
    {
     "data": {
      "text/plain": [
       "<AxesSubplot:>"
      ]
     },
     "execution_count": 22,
     "metadata": {},
     "output_type": "execute_result"
    },
    {
     "data": {
      "image/png": "[encoded data removed]",
      "text/plain": [
       "<Figure size 432x288 with 1 Axes>"
      ]
     },
     "metadata": {
      "needs_background": "light"
     },
     "output_type": "display_data"
    }
   ],
   "source": [
    "sns.boxplot(data=df, order=[\"gs_article\", \"gs_citation\", \"gs_cited_document\"])"
   ]
  },
  {
   "cell_type": "markdown",
   "id": "e0790960",
   "metadata": {},
   "source": [
    "### WOS Article, Citation, and Cited Distribution"
   ]
  },
  {
   "cell_type": "code",
   "execution_count": 23,
   "id": "b501ef46",
   "metadata": {},
   "outputs": [
    {
     "data": {
      "text/plain": [
       "<AxesSubplot:>"
      ]
     },
     "execution_count": 23,
     "metadata": {},
     "output_type": "execute_result"
    },
    {
     "data": {
      "image/png": "[encoded data removed]",
      "text/plain": [
       "<Figure size 432x288 with 1 Axes>"
      ]
     },
     "metadata": {
      "needs_background": "light"
     },
     "output_type": "display_data"
    }
   ],
   "source": [
    "sns.boxplot(data=df, order=[\"wos_article\", \"wos_citation\", \"wos_cited_document\"])"
   ]
  },
  {
   "cell_type": "code",
   "execution_count": null,
   "id": "209d0220",
   "metadata": {},
   "outputs": [],
   "source": []
  },
  {
   "cell_type": "markdown",
   "id": "55c1dca5",
   "metadata": {},
   "source": []
  }
 ],
 "metadata": {
  "kernelspec": {
   "display_name": "Python 3 (ipykernel)",
   "language": "python",
   "name": "python3"
  },
  "language_info": {
   "codemirror_mode": {
    "name": "ipython",
    "version": 3
   },
   "file_extension": ".py",
   "mimetype": "text/x-python",
   "name": "python",
   "nbconvert_exporter": "python",
   "pygments_lexer": "ipython3",
   "version": "3.9.12"
  }
 },
 "nbformat": 4,
 "nbformat_minor": 5
}
